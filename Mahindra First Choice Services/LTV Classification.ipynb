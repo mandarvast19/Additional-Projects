{
 "cells": [
  {
   "cell_type": "code",
   "execution_count": 1,
   "metadata": {},
   "outputs": [],
   "source": [
    "import numpy as np\n",
    "import pandas as pd\n",
    "pd.set_option('display.max_columns', None)\n",
    "pd.set_option('display.max_rows',100)\n",
    "import warnings\n",
    "warnings.simplefilter('ignore')\n",
    "import plotly.express as px\n",
    "import plotly.graph_objs as go\n",
    "from wordcloud import WordCloud\n",
    "import matplotlib.pyplot as plt"
   ]
  },
  {
   "cell_type": "code",
   "execution_count": 2,
   "metadata": {},
   "outputs": [],
   "source": [
    "from sklearn.preprocessing import LabelEncoder,StandardScaler\n",
    "from sklearn.model_selection import train_test_split as tts,cross_val_score,ShuffleSplit\n",
    "from imblearn.over_sampling import SMOTE\n",
    "from sklearn.tree import DecisionTreeClassifier\n",
    "from sklearn.ensemble import RandomForestClassifier\n",
    "from xgboost import XGBClassifier\n",
    "from sklearn.cluster import KMeans\n",
    "from sklearn.decomposition import PCA\n",
    "from sklearn.metrics import accuracy_score,f1_score,classification_report,roc_auc_score"
   ]
  },
  {
   "cell_type": "code",
   "execution_count": 4,
   "metadata": {},
   "outputs": [],
   "source": [
    "df = pd.read_csv('cust_inv_merged_final.csv')"
   ]
  },
  {
   "cell_type": "code",
   "execution_count": 5,
   "metadata": {},
   "outputs": [],
   "source": [
    "master_df = df.groupby(['Make','Model','state','City','Order Type']).agg({'Total Amt Wtd Tax.' : 'mean','ServiceHours':'mean'})"
   ]
  },
  {
   "cell_type": "code",
   "execution_count": 6,
   "metadata": {},
   "outputs": [],
   "source": [
    "master_df.columns = ['Average Revenue','Average Hrs']\n",
    "master_df.reset_index(inplace=True)"
   ]
  },
  {
   "cell_type": "code",
   "execution_count": 7,
   "metadata": {},
   "outputs": [
    {
     "data": {
      "text/plain": [
       "(36500, 7)"
      ]
     },
     "execution_count": 7,
     "metadata": {},
     "output_type": "execute_result"
    }
   ],
   "source": [
    "master_df.shape"
   ]
  },
  {
   "cell_type": "code",
   "execution_count": 8,
   "metadata": {},
   "outputs": [],
   "source": [
    "df_2016 = df[df['Year']==2016]"
   ]
  },
  {
   "cell_type": "code",
   "execution_count": 9,
   "metadata": {},
   "outputs": [
    {
     "data": {
      "text/plain": [
       "(197286, 32)"
      ]
     },
     "execution_count": 9,
     "metadata": {},
     "output_type": "execute_result"
    }
   ],
   "source": [
    "df_2016.shape"
   ]
  },
  {
   "cell_type": "code",
   "execution_count": 10,
   "metadata": {},
   "outputs": [
    {
     "data": {
      "text/plain": [
       "221957     333\n",
       "148721     145\n",
       "MFCCM03    128\n",
       "412        111\n",
       "E11365     111\n",
       "          ... \n",
       "259194       1\n",
       "203128       1\n",
       "195004       1\n",
       "166849       1\n",
       "198826       1\n",
       "Name: Customer No., Length: 131243, dtype: int64"
      ]
     },
     "execution_count": 10,
     "metadata": {},
     "output_type": "execute_result"
    }
   ],
   "source": [
    "df_2016['Customer No.'].value_counts()"
   ]
  },
  {
   "cell_type": "code",
   "execution_count": 11,
   "metadata": {},
   "outputs": [],
   "source": [
    "#df_2016['Frequency'] = df_2016['Customer No.'].map(df_2016['Customer No.'].value_counts())"
   ]
  },
  {
   "cell_type": "code",
   "execution_count": 27,
   "metadata": {},
   "outputs": [],
   "source": [
    "frequency_df = df_2016.groupby(['Order Type','Make','Model','City','Customer No.']).agg({\"Invoice No\":'nunique'})"
   ]
  },
  {
   "cell_type": "code",
   "execution_count": 28,
   "metadata": {},
   "outputs": [],
   "source": [
    "frequency_df.columns =  ['Frequency']"
   ]
  },
  {
   "cell_type": "code",
   "execution_count": 29,
   "metadata": {},
   "outputs": [],
   "source": [
    "frequency_df.reset_index(inplace=True)"
   ]
  },
  {
   "cell_type": "code",
   "execution_count": 30,
   "metadata": {},
   "outputs": [
    {
     "data": {
      "text/html": [
       "<div>\n",
       "<style scoped>\n",
       "    .dataframe tbody tr th:only-of-type {\n",
       "        vertical-align: middle;\n",
       "    }\n",
       "\n",
       "    .dataframe tbody tr th {\n",
       "        vertical-align: top;\n",
       "    }\n",
       "\n",
       "    .dataframe thead th {\n",
       "        text-align: right;\n",
       "    }\n",
       "</style>\n",
       "<table border=\"1\" class=\"dataframe\">\n",
       "  <thead>\n",
       "    <tr style=\"text-align: right;\">\n",
       "      <th></th>\n",
       "      <th>Order Type</th>\n",
       "      <th>Make</th>\n",
       "      <th>Model</th>\n",
       "      <th>City</th>\n",
       "      <th>Customer No.</th>\n",
       "      <th>Frequency</th>\n",
       "    </tr>\n",
       "  </thead>\n",
       "  <tbody>\n",
       "    <tr>\n",
       "      <th>39048</th>\n",
       "      <td>Paid Service</td>\n",
       "      <td>HYUNDAI</td>\n",
       "      <td>I20</td>\n",
       "      <td>thanjavur</td>\n",
       "      <td>221957</td>\n",
       "      <td>1</td>\n",
       "    </tr>\n",
       "    <tr>\n",
       "      <th>89045</th>\n",
       "      <td>Running Repairs</td>\n",
       "      <td>HYUNDAI</td>\n",
       "      <td>ACCENT</td>\n",
       "      <td>thanjavur</td>\n",
       "      <td>221957</td>\n",
       "      <td>2</td>\n",
       "    </tr>\n",
       "    <tr>\n",
       "      <th>89158</th>\n",
       "      <td>Running Repairs</td>\n",
       "      <td>HYUNDAI</td>\n",
       "      <td>CRETA</td>\n",
       "      <td>thanjavur</td>\n",
       "      <td>221957</td>\n",
       "      <td>1</td>\n",
       "    </tr>\n",
       "    <tr>\n",
       "      <th>90093</th>\n",
       "      <td>Running Repairs</td>\n",
       "      <td>HYUNDAI</td>\n",
       "      <td>EON</td>\n",
       "      <td>thanjavur</td>\n",
       "      <td>221957</td>\n",
       "      <td>52</td>\n",
       "    </tr>\n",
       "    <tr>\n",
       "      <th>90493</th>\n",
       "      <td>Running Repairs</td>\n",
       "      <td>HYUNDAI</td>\n",
       "      <td>GETZ</td>\n",
       "      <td>thanjavur</td>\n",
       "      <td>221957</td>\n",
       "      <td>2</td>\n",
       "    </tr>\n",
       "    <tr>\n",
       "      <th>93257</th>\n",
       "      <td>Running Repairs</td>\n",
       "      <td>HYUNDAI</td>\n",
       "      <td>I10</td>\n",
       "      <td>thanjavur</td>\n",
       "      <td>221957</td>\n",
       "      <td>94</td>\n",
       "    </tr>\n",
       "    <tr>\n",
       "      <th>95540</th>\n",
       "      <td>Running Repairs</td>\n",
       "      <td>HYUNDAI</td>\n",
       "      <td>I20</td>\n",
       "      <td>thanjavur</td>\n",
       "      <td>221957</td>\n",
       "      <td>75</td>\n",
       "    </tr>\n",
       "    <tr>\n",
       "      <th>95574</th>\n",
       "      <td>Running Repairs</td>\n",
       "      <td>HYUNDAI</td>\n",
       "      <td>I20</td>\n",
       "      <td>thiruvarur</td>\n",
       "      <td>221957</td>\n",
       "      <td>1</td>\n",
       "    </tr>\n",
       "    <tr>\n",
       "      <th>95834</th>\n",
       "      <td>Running Repairs</td>\n",
       "      <td>HYUNDAI</td>\n",
       "      <td>SANTA FE</td>\n",
       "      <td>thanjavur</td>\n",
       "      <td>221957</td>\n",
       "      <td>1</td>\n",
       "    </tr>\n",
       "    <tr>\n",
       "      <th>98241</th>\n",
       "      <td>Running Repairs</td>\n",
       "      <td>HYUNDAI</td>\n",
       "      <td>SANTRO</td>\n",
       "      <td>thanjavur</td>\n",
       "      <td>221957</td>\n",
       "      <td>33</td>\n",
       "    </tr>\n",
       "    <tr>\n",
       "      <th>99023</th>\n",
       "      <td>Running Repairs</td>\n",
       "      <td>HYUNDAI</td>\n",
       "      <td>SANTRO XING</td>\n",
       "      <td>thanjavur</td>\n",
       "      <td>221957</td>\n",
       "      <td>2</td>\n",
       "    </tr>\n",
       "    <tr>\n",
       "      <th>100237</th>\n",
       "      <td>Running Repairs</td>\n",
       "      <td>HYUNDAI</td>\n",
       "      <td>VERNA</td>\n",
       "      <td>thanjavur</td>\n",
       "      <td>221957</td>\n",
       "      <td>27</td>\n",
       "    </tr>\n",
       "    <tr>\n",
       "      <th>100732</th>\n",
       "      <td>Running Repairs</td>\n",
       "      <td>HYUNDAI</td>\n",
       "      <td>XCENT</td>\n",
       "      <td>thanjavur</td>\n",
       "      <td>221957</td>\n",
       "      <td>42</td>\n",
       "    </tr>\n",
       "  </tbody>\n",
       "</table>\n",
       "</div>"
      ],
      "text/plain": [
       "             Order Type     Make        Model        City Customer No.  \\\n",
       "39048      Paid Service  HYUNDAI          I20   thanjavur       221957   \n",
       "89045   Running Repairs  HYUNDAI       ACCENT   thanjavur       221957   \n",
       "89158   Running Repairs  HYUNDAI        CRETA   thanjavur       221957   \n",
       "90093   Running Repairs  HYUNDAI          EON   thanjavur       221957   \n",
       "90493   Running Repairs  HYUNDAI         GETZ   thanjavur       221957   \n",
       "93257   Running Repairs  HYUNDAI          I10   thanjavur       221957   \n",
       "95540   Running Repairs  HYUNDAI          I20   thanjavur       221957   \n",
       "95574   Running Repairs  HYUNDAI          I20  thiruvarur       221957   \n",
       "95834   Running Repairs  HYUNDAI     SANTA FE   thanjavur       221957   \n",
       "98241   Running Repairs  HYUNDAI       SANTRO   thanjavur       221957   \n",
       "99023   Running Repairs  HYUNDAI  SANTRO XING   thanjavur       221957   \n",
       "100237  Running Repairs  HYUNDAI        VERNA   thanjavur       221957   \n",
       "100732  Running Repairs  HYUNDAI        XCENT   thanjavur       221957   \n",
       "\n",
       "        Frequency  \n",
       "39048           1  \n",
       "89045           2  \n",
       "89158           1  \n",
       "90093          52  \n",
       "90493           2  \n",
       "93257          94  \n",
       "95540          75  \n",
       "95574           1  \n",
       "95834           1  \n",
       "98241          33  \n",
       "99023           2  \n",
       "100237         27  \n",
       "100732         42  "
      ]
     },
     "execution_count": 30,
     "metadata": {},
     "output_type": "execute_result"
    }
   ],
   "source": [
    "frequency_df[frequency_df['Customer No.'] == '221957']"
   ]
  },
  {
   "cell_type": "code",
   "execution_count": 31,
   "metadata": {},
   "outputs": [],
   "source": [
    "merge_df1= pd.merge(df_2016,master_df,on=['Make','Model','state','City','Order Type'],how='left')"
   ]
  },
  {
   "cell_type": "code",
   "execution_count": 32,
   "metadata": {},
   "outputs": [],
   "source": [
    "merged_df = pd.merge(merge_df1,frequency_df,on =['Order Type','Make','Model','City','Customer No.'],how='left')"
   ]
  },
  {
   "cell_type": "code",
   "execution_count": 19,
   "metadata": {
    "collapsed": true
   },
   "outputs": [
    {
     "data": {
      "text/html": [
       "<div>\n",
       "<style scoped>\n",
       "    .dataframe tbody tr th:only-of-type {\n",
       "        vertical-align: middle;\n",
       "    }\n",
       "\n",
       "    .dataframe tbody tr th {\n",
       "        vertical-align: top;\n",
       "    }\n",
       "\n",
       "    .dataframe thead th {\n",
       "        text-align: right;\n",
       "    }\n",
       "</style>\n",
       "<table border=\"1\" class=\"dataframe\">\n",
       "  <thead>\n",
       "    <tr style=\"text-align: right;\">\n",
       "      <th></th>\n",
       "      <th>Unnamed: 0</th>\n",
       "      <th>Invoice No</th>\n",
       "      <th>Job Card No</th>\n",
       "      <th>Customer No.</th>\n",
       "      <th>Cust Type</th>\n",
       "      <th>Partner Type</th>\n",
       "      <th>Order Type</th>\n",
       "      <th>Data Origin</th>\n",
       "      <th>User ID</th>\n",
       "      <th>Plant</th>\n",
       "      <th>Plant Name1</th>\n",
       "      <th>City</th>\n",
       "      <th>state</th>\n",
       "      <th>Zones</th>\n",
       "      <th>Make</th>\n",
       "      <th>Model</th>\n",
       "      <th>Price</th>\n",
       "      <th>Model Category</th>\n",
       "      <th>age</th>\n",
       "      <th>Days</th>\n",
       "      <th>ServiceHours</th>\n",
       "      <th>Service_Time</th>\n",
       "      <th>KMs Reading</th>\n",
       "      <th>Year</th>\n",
       "      <th>Month</th>\n",
       "      <th>Season</th>\n",
       "      <th>Labour Total</th>\n",
       "      <th>Parts Total</th>\n",
       "      <th>OSL Total</th>\n",
       "      <th>Misc Total</th>\n",
       "      <th>Recovrbl Exp</th>\n",
       "      <th>Total Amt Wtd Tax.</th>\n",
       "      <th>Average Revenue</th>\n",
       "      <th>Average Hrs</th>\n",
       "      <th>Frequency</th>\n",
       "    </tr>\n",
       "  </thead>\n",
       "  <tbody>\n",
       "    <tr>\n",
       "      <th>110885</th>\n",
       "      <td>405913</td>\n",
       "      <td>7154403125</td>\n",
       "      <td>432129</td>\n",
       "      <td>221957</td>\n",
       "      <td>Retail</td>\n",
       "      <td>1</td>\n",
       "      <td>Running Repairs</td>\n",
       "      <td>Z006</td>\n",
       "      <td>X022SA1</td>\n",
       "      <td>X022</td>\n",
       "      <td>X022 - ARASU CAR ACCESSORIES</td>\n",
       "      <td>thanjavur</td>\n",
       "      <td>Tamil Nadu</td>\n",
       "      <td>South</td>\n",
       "      <td>HYUNDAI</td>\n",
       "      <td>I10</td>\n",
       "      <td>589000</td>\n",
       "      <td>Mid Range</td>\n",
       "      <td>&gt;5</td>\n",
       "      <td>0</td>\n",
       "      <td>8.53</td>\n",
       "      <td>0 days 08:32:50.000000000</td>\n",
       "      <td>44501</td>\n",
       "      <td>2016</td>\n",
       "      <td>8</td>\n",
       "      <td>Monsoon</td>\n",
       "      <td>200.00</td>\n",
       "      <td>0.00</td>\n",
       "      <td>0.0</td>\n",
       "      <td>0.0</td>\n",
       "      <td>0.0</td>\n",
       "      <td>200.00</td>\n",
       "      <td>513.552621</td>\n",
       "      <td>9.529597</td>\n",
       "      <td>94</td>\n",
       "    </tr>\n",
       "    <tr>\n",
       "      <th>110893</th>\n",
       "      <td>405921</td>\n",
       "      <td>7154403133</td>\n",
       "      <td>433124</td>\n",
       "      <td>221957</td>\n",
       "      <td>Retail</td>\n",
       "      <td>1</td>\n",
       "      <td>Running Repairs</td>\n",
       "      <td>Z006</td>\n",
       "      <td>X022SA1</td>\n",
       "      <td>X022</td>\n",
       "      <td>X022 - ARASU CAR ACCESSORIES</td>\n",
       "      <td>thanjavur</td>\n",
       "      <td>Tamil Nadu</td>\n",
       "      <td>South</td>\n",
       "      <td>HYUNDAI</td>\n",
       "      <td>VERNA</td>\n",
       "      <td>930000</td>\n",
       "      <td>Mid Range</td>\n",
       "      <td>&gt;5</td>\n",
       "      <td>0</td>\n",
       "      <td>6.88</td>\n",
       "      <td>0 days 06:53:31.000000000</td>\n",
       "      <td>40325</td>\n",
       "      <td>2016</td>\n",
       "      <td>8</td>\n",
       "      <td>Monsoon</td>\n",
       "      <td>200.00</td>\n",
       "      <td>0.00</td>\n",
       "      <td>0.0</td>\n",
       "      <td>0.0</td>\n",
       "      <td>0.0</td>\n",
       "      <td>200.00</td>\n",
       "      <td>1272.116706</td>\n",
       "      <td>7.767412</td>\n",
       "      <td>27</td>\n",
       "    </tr>\n",
       "    <tr>\n",
       "      <th>110895</th>\n",
       "      <td>405923</td>\n",
       "      <td>7154403135</td>\n",
       "      <td>433449</td>\n",
       "      <td>221957</td>\n",
       "      <td>Retail</td>\n",
       "      <td>1</td>\n",
       "      <td>Running Repairs</td>\n",
       "      <td>Z006</td>\n",
       "      <td>X022SA1</td>\n",
       "      <td>X022</td>\n",
       "      <td>X022 - ARASU CAR ACCESSORIES</td>\n",
       "      <td>thanjavur</td>\n",
       "      <td>Tamil Nadu</td>\n",
       "      <td>South</td>\n",
       "      <td>HYUNDAI</td>\n",
       "      <td>I20</td>\n",
       "      <td>649000</td>\n",
       "      <td>Mid Range</td>\n",
       "      <td>01-Mar</td>\n",
       "      <td>0</td>\n",
       "      <td>3.02</td>\n",
       "      <td>0 days 03:01:49.000000000</td>\n",
       "      <td>9092</td>\n",
       "      <td>2016</td>\n",
       "      <td>8</td>\n",
       "      <td>Monsoon</td>\n",
       "      <td>200.00</td>\n",
       "      <td>0.00</td>\n",
       "      <td>0.0</td>\n",
       "      <td>0.0</td>\n",
       "      <td>0.0</td>\n",
       "      <td>200.00</td>\n",
       "      <td>305.447619</td>\n",
       "      <td>6.317403</td>\n",
       "      <td>75</td>\n",
       "    </tr>\n",
       "    <tr>\n",
       "      <th>110896</th>\n",
       "      <td>405924</td>\n",
       "      <td>7154403136</td>\n",
       "      <td>433233</td>\n",
       "      <td>221957</td>\n",
       "      <td>Retail</td>\n",
       "      <td>1</td>\n",
       "      <td>Running Repairs</td>\n",
       "      <td>Z006</td>\n",
       "      <td>X022SA1</td>\n",
       "      <td>X022</td>\n",
       "      <td>X022 - ARASU CAR ACCESSORIES</td>\n",
       "      <td>thanjavur</td>\n",
       "      <td>Tamil Nadu</td>\n",
       "      <td>South</td>\n",
       "      <td>HYUNDAI</td>\n",
       "      <td>XCENT</td>\n",
       "      <td>581000</td>\n",
       "      <td>Mid Range</td>\n",
       "      <td>01-Mar</td>\n",
       "      <td>0</td>\n",
       "      <td>6.43</td>\n",
       "      <td>0 days 06:26:54.000000000</td>\n",
       "      <td>12238</td>\n",
       "      <td>2016</td>\n",
       "      <td>8</td>\n",
       "      <td>Monsoon</td>\n",
       "      <td>299.99</td>\n",
       "      <td>22.72</td>\n",
       "      <td>0.0</td>\n",
       "      <td>0.0</td>\n",
       "      <td>0.0</td>\n",
       "      <td>322.71</td>\n",
       "      <td>282.039596</td>\n",
       "      <td>12.336970</td>\n",
       "      <td>42</td>\n",
       "    </tr>\n",
       "    <tr>\n",
       "      <th>110897</th>\n",
       "      <td>405925</td>\n",
       "      <td>7154403137</td>\n",
       "      <td>433416</td>\n",
       "      <td>221957</td>\n",
       "      <td>Retail</td>\n",
       "      <td>1</td>\n",
       "      <td>Running Repairs</td>\n",
       "      <td>Z006</td>\n",
       "      <td>X022SA1</td>\n",
       "      <td>X022</td>\n",
       "      <td>X022 - ARASU CAR ACCESSORIES</td>\n",
       "      <td>thanjavur</td>\n",
       "      <td>Tamil Nadu</td>\n",
       "      <td>South</td>\n",
       "      <td>HYUNDAI</td>\n",
       "      <td>SANTRO</td>\n",
       "      <td>457000</td>\n",
       "      <td>Budget Friendly</td>\n",
       "      <td>&gt;5</td>\n",
       "      <td>0</td>\n",
       "      <td>3.75</td>\n",
       "      <td>0 days 03:45:40.000000000</td>\n",
       "      <td>625209</td>\n",
       "      <td>2016</td>\n",
       "      <td>8</td>\n",
       "      <td>Monsoon</td>\n",
       "      <td>299.99</td>\n",
       "      <td>29.71</td>\n",
       "      <td>0.0</td>\n",
       "      <td>0.0</td>\n",
       "      <td>0.0</td>\n",
       "      <td>329.70</td>\n",
       "      <td>807.952025</td>\n",
       "      <td>6.955190</td>\n",
       "      <td>33</td>\n",
       "    </tr>\n",
       "    <tr>\n",
       "      <th>...</th>\n",
       "      <td>...</td>\n",
       "      <td>...</td>\n",
       "      <td>...</td>\n",
       "      <td>...</td>\n",
       "      <td>...</td>\n",
       "      <td>...</td>\n",
       "      <td>...</td>\n",
       "      <td>...</td>\n",
       "      <td>...</td>\n",
       "      <td>...</td>\n",
       "      <td>...</td>\n",
       "      <td>...</td>\n",
       "      <td>...</td>\n",
       "      <td>...</td>\n",
       "      <td>...</td>\n",
       "      <td>...</td>\n",
       "      <td>...</td>\n",
       "      <td>...</td>\n",
       "      <td>...</td>\n",
       "      <td>...</td>\n",
       "      <td>...</td>\n",
       "      <td>...</td>\n",
       "      <td>...</td>\n",
       "      <td>...</td>\n",
       "      <td>...</td>\n",
       "      <td>...</td>\n",
       "      <td>...</td>\n",
       "      <td>...</td>\n",
       "      <td>...</td>\n",
       "      <td>...</td>\n",
       "      <td>...</td>\n",
       "      <td>...</td>\n",
       "      <td>...</td>\n",
       "      <td>...</td>\n",
       "      <td>...</td>\n",
       "    </tr>\n",
       "    <tr>\n",
       "      <th>172577</th>\n",
       "      <td>467605</td>\n",
       "      <td>7154403775</td>\n",
       "      <td>496295</td>\n",
       "      <td>221957</td>\n",
       "      <td>Retail</td>\n",
       "      <td>1</td>\n",
       "      <td>Running Repairs</td>\n",
       "      <td>Z006</td>\n",
       "      <td>X022SA1</td>\n",
       "      <td>X022</td>\n",
       "      <td>X022 - ARASU CAR ACCESSORIES</td>\n",
       "      <td>thanjavur</td>\n",
       "      <td>Tamil Nadu</td>\n",
       "      <td>South</td>\n",
       "      <td>HYUNDAI</td>\n",
       "      <td>I20</td>\n",
       "      <td>649000</td>\n",
       "      <td>Mid Range</td>\n",
       "      <td>&gt;5</td>\n",
       "      <td>0</td>\n",
       "      <td>8.75</td>\n",
       "      <td>0 days 08:45:30.000000000</td>\n",
       "      <td>33470</td>\n",
       "      <td>2016</td>\n",
       "      <td>10</td>\n",
       "      <td>Winter</td>\n",
       "      <td>300.00</td>\n",
       "      <td>63.81</td>\n",
       "      <td>0.0</td>\n",
       "      <td>0.0</td>\n",
       "      <td>0.0</td>\n",
       "      <td>363.81</td>\n",
       "      <td>305.447619</td>\n",
       "      <td>6.317403</td>\n",
       "      <td>75</td>\n",
       "    </tr>\n",
       "    <tr>\n",
       "      <th>172578</th>\n",
       "      <td>467606</td>\n",
       "      <td>7154403776</td>\n",
       "      <td>496344</td>\n",
       "      <td>221957</td>\n",
       "      <td>Retail</td>\n",
       "      <td>1</td>\n",
       "      <td>Running Repairs</td>\n",
       "      <td>Z006</td>\n",
       "      <td>X022SA1</td>\n",
       "      <td>X022</td>\n",
       "      <td>X022 - ARASU CAR ACCESSORIES</td>\n",
       "      <td>thanjavur</td>\n",
       "      <td>Tamil Nadu</td>\n",
       "      <td>South</td>\n",
       "      <td>HYUNDAI</td>\n",
       "      <td>SANTRO</td>\n",
       "      <td>457000</td>\n",
       "      <td>Budget Friendly</td>\n",
       "      <td>&gt;5</td>\n",
       "      <td>0</td>\n",
       "      <td>8.45</td>\n",
       "      <td>0 days 08:27:26.000000000</td>\n",
       "      <td>36947</td>\n",
       "      <td>2016</td>\n",
       "      <td>10</td>\n",
       "      <td>Winter</td>\n",
       "      <td>200.00</td>\n",
       "      <td>0.00</td>\n",
       "      <td>0.0</td>\n",
       "      <td>0.0</td>\n",
       "      <td>0.0</td>\n",
       "      <td>200.00</td>\n",
       "      <td>807.952025</td>\n",
       "      <td>6.955190</td>\n",
       "      <td>33</td>\n",
       "    </tr>\n",
       "    <tr>\n",
       "      <th>172579</th>\n",
       "      <td>467607</td>\n",
       "      <td>7154403777</td>\n",
       "      <td>496345</td>\n",
       "      <td>221957</td>\n",
       "      <td>Retail</td>\n",
       "      <td>1</td>\n",
       "      <td>Running Repairs</td>\n",
       "      <td>Z006</td>\n",
       "      <td>X022SA1</td>\n",
       "      <td>X022</td>\n",
       "      <td>X022 - ARASU CAR ACCESSORIES</td>\n",
       "      <td>thanjavur</td>\n",
       "      <td>Tamil Nadu</td>\n",
       "      <td>South</td>\n",
       "      <td>HYUNDAI</td>\n",
       "      <td>I10</td>\n",
       "      <td>589000</td>\n",
       "      <td>Mid Range</td>\n",
       "      <td>&gt;5</td>\n",
       "      <td>0</td>\n",
       "      <td>8.40</td>\n",
       "      <td>0 days 08:24:27.000000000</td>\n",
       "      <td>63355</td>\n",
       "      <td>2016</td>\n",
       "      <td>10</td>\n",
       "      <td>Winter</td>\n",
       "      <td>200.00</td>\n",
       "      <td>0.00</td>\n",
       "      <td>0.0</td>\n",
       "      <td>0.0</td>\n",
       "      <td>0.0</td>\n",
       "      <td>200.00</td>\n",
       "      <td>513.552621</td>\n",
       "      <td>9.529597</td>\n",
       "      <td>94</td>\n",
       "    </tr>\n",
       "    <tr>\n",
       "      <th>172580</th>\n",
       "      <td>467608</td>\n",
       "      <td>7154403778</td>\n",
       "      <td>496377</td>\n",
       "      <td>221957</td>\n",
       "      <td>Retail</td>\n",
       "      <td>1</td>\n",
       "      <td>Running Repairs</td>\n",
       "      <td>Z006</td>\n",
       "      <td>X022SA1</td>\n",
       "      <td>X022</td>\n",
       "      <td>X022 - ARASU CAR ACCESSORIES</td>\n",
       "      <td>thanjavur</td>\n",
       "      <td>Tamil Nadu</td>\n",
       "      <td>South</td>\n",
       "      <td>HYUNDAI</td>\n",
       "      <td>VERNA</td>\n",
       "      <td>930000</td>\n",
       "      <td>Mid Range</td>\n",
       "      <td>&gt;5</td>\n",
       "      <td>0</td>\n",
       "      <td>8.23</td>\n",
       "      <td>0 days 08:14:15.000000000</td>\n",
       "      <td>57859</td>\n",
       "      <td>2016</td>\n",
       "      <td>10</td>\n",
       "      <td>Winter</td>\n",
       "      <td>200.00</td>\n",
       "      <td>0.00</td>\n",
       "      <td>0.0</td>\n",
       "      <td>0.0</td>\n",
       "      <td>0.0</td>\n",
       "      <td>200.00</td>\n",
       "      <td>1272.116706</td>\n",
       "      <td>7.767412</td>\n",
       "      <td>27</td>\n",
       "    </tr>\n",
       "    <tr>\n",
       "      <th>176637</th>\n",
       "      <td>471665</td>\n",
       "      <td>7154403786</td>\n",
       "      <td>499527</td>\n",
       "      <td>221957</td>\n",
       "      <td>Retail</td>\n",
       "      <td>1</td>\n",
       "      <td>Running Repairs</td>\n",
       "      <td>Z006</td>\n",
       "      <td>X022SA1</td>\n",
       "      <td>X022</td>\n",
       "      <td>X022 - ARASU CAR ACCESSORIES</td>\n",
       "      <td>thanjavur</td>\n",
       "      <td>Tamil Nadu</td>\n",
       "      <td>South</td>\n",
       "      <td>HYUNDAI</td>\n",
       "      <td>I10</td>\n",
       "      <td>589000</td>\n",
       "      <td>Mid Range</td>\n",
       "      <td>03-May</td>\n",
       "      <td>0</td>\n",
       "      <td>8.48</td>\n",
       "      <td>0 days 08:29:24.000000000</td>\n",
       "      <td>22114</td>\n",
       "      <td>2016</td>\n",
       "      <td>10</td>\n",
       "      <td>Winter</td>\n",
       "      <td>200.00</td>\n",
       "      <td>0.00</td>\n",
       "      <td>0.0</td>\n",
       "      <td>0.0</td>\n",
       "      <td>0.0</td>\n",
       "      <td>200.00</td>\n",
       "      <td>513.552621</td>\n",
       "      <td>9.529597</td>\n",
       "      <td>94</td>\n",
       "    </tr>\n",
       "  </tbody>\n",
       "</table>\n",
       "<p>333 rows × 35 columns</p>\n",
       "</div>"
      ],
      "text/plain": [
       "        Unnamed: 0  Invoice No  Job Card No Customer No. Cust Type  \\\n",
       "110885      405913  7154403125       432129       221957    Retail   \n",
       "110893      405921  7154403133       433124       221957    Retail   \n",
       "110895      405923  7154403135       433449       221957    Retail   \n",
       "110896      405924  7154403136       433233       221957    Retail   \n",
       "110897      405925  7154403137       433416       221957    Retail   \n",
       "...            ...         ...          ...          ...       ...   \n",
       "172577      467605  7154403775       496295       221957    Retail   \n",
       "172578      467606  7154403776       496344       221957    Retail   \n",
       "172579      467607  7154403777       496345       221957    Retail   \n",
       "172580      467608  7154403778       496377       221957    Retail   \n",
       "176637      471665  7154403786       499527       221957    Retail   \n",
       "\n",
       "        Partner Type       Order Type Data Origin  User ID Plant  \\\n",
       "110885             1  Running Repairs        Z006  X022SA1  X022   \n",
       "110893             1  Running Repairs        Z006  X022SA1  X022   \n",
       "110895             1  Running Repairs        Z006  X022SA1  X022   \n",
       "110896             1  Running Repairs        Z006  X022SA1  X022   \n",
       "110897             1  Running Repairs        Z006  X022SA1  X022   \n",
       "...              ...              ...         ...      ...   ...   \n",
       "172577             1  Running Repairs        Z006  X022SA1  X022   \n",
       "172578             1  Running Repairs        Z006  X022SA1  X022   \n",
       "172579             1  Running Repairs        Z006  X022SA1  X022   \n",
       "172580             1  Running Repairs        Z006  X022SA1  X022   \n",
       "176637             1  Running Repairs        Z006  X022SA1  X022   \n",
       "\n",
       "                         Plant Name1       City       state  Zones     Make  \\\n",
       "110885  X022 - ARASU CAR ACCESSORIES  thanjavur  Tamil Nadu  South  HYUNDAI   \n",
       "110893  X022 - ARASU CAR ACCESSORIES  thanjavur  Tamil Nadu  South  HYUNDAI   \n",
       "110895  X022 - ARASU CAR ACCESSORIES  thanjavur  Tamil Nadu  South  HYUNDAI   \n",
       "110896  X022 - ARASU CAR ACCESSORIES  thanjavur  Tamil Nadu  South  HYUNDAI   \n",
       "110897  X022 - ARASU CAR ACCESSORIES  thanjavur  Tamil Nadu  South  HYUNDAI   \n",
       "...                              ...        ...         ...    ...      ...   \n",
       "172577  X022 - ARASU CAR ACCESSORIES  thanjavur  Tamil Nadu  South  HYUNDAI   \n",
       "172578  X022 - ARASU CAR ACCESSORIES  thanjavur  Tamil Nadu  South  HYUNDAI   \n",
       "172579  X022 - ARASU CAR ACCESSORIES  thanjavur  Tamil Nadu  South  HYUNDAI   \n",
       "172580  X022 - ARASU CAR ACCESSORIES  thanjavur  Tamil Nadu  South  HYUNDAI   \n",
       "176637  X022 - ARASU CAR ACCESSORIES  thanjavur  Tamil Nadu  South  HYUNDAI   \n",
       "\n",
       "         Model   Price   Model Category     age  Days  ServiceHours  \\\n",
       "110885     I10  589000        Mid Range      >5     0          8.53   \n",
       "110893   VERNA  930000        Mid Range      >5     0          6.88   \n",
       "110895     I20  649000        Mid Range  01-Mar     0          3.02   \n",
       "110896   XCENT  581000        Mid Range  01-Mar     0          6.43   \n",
       "110897  SANTRO  457000  Budget Friendly      >5     0          3.75   \n",
       "...        ...     ...              ...     ...   ...           ...   \n",
       "172577     I20  649000        Mid Range      >5     0          8.75   \n",
       "172578  SANTRO  457000  Budget Friendly      >5     0          8.45   \n",
       "172579     I10  589000        Mid Range      >5     0          8.40   \n",
       "172580   VERNA  930000        Mid Range      >5     0          8.23   \n",
       "176637     I10  589000        Mid Range  03-May     0          8.48   \n",
       "\n",
       "                     Service_Time  KMs Reading  Year  Month   Season  \\\n",
       "110885  0 days 08:32:50.000000000        44501  2016      8  Monsoon   \n",
       "110893  0 days 06:53:31.000000000        40325  2016      8  Monsoon   \n",
       "110895  0 days 03:01:49.000000000         9092  2016      8  Monsoon   \n",
       "110896  0 days 06:26:54.000000000        12238  2016      8  Monsoon   \n",
       "110897  0 days 03:45:40.000000000       625209  2016      8  Monsoon   \n",
       "...                           ...          ...   ...    ...      ...   \n",
       "172577  0 days 08:45:30.000000000        33470  2016     10   Winter   \n",
       "172578  0 days 08:27:26.000000000        36947  2016     10   Winter   \n",
       "172579  0 days 08:24:27.000000000        63355  2016     10   Winter   \n",
       "172580  0 days 08:14:15.000000000        57859  2016     10   Winter   \n",
       "176637  0 days 08:29:24.000000000        22114  2016     10   Winter   \n",
       "\n",
       "        Labour Total  Parts Total  OSL Total  Misc Total  Recovrbl Exp  \\\n",
       "110885        200.00         0.00        0.0         0.0           0.0   \n",
       "110893        200.00         0.00        0.0         0.0           0.0   \n",
       "110895        200.00         0.00        0.0         0.0           0.0   \n",
       "110896        299.99        22.72        0.0         0.0           0.0   \n",
       "110897        299.99        29.71        0.0         0.0           0.0   \n",
       "...              ...          ...        ...         ...           ...   \n",
       "172577        300.00        63.81        0.0         0.0           0.0   \n",
       "172578        200.00         0.00        0.0         0.0           0.0   \n",
       "172579        200.00         0.00        0.0         0.0           0.0   \n",
       "172580        200.00         0.00        0.0         0.0           0.0   \n",
       "176637        200.00         0.00        0.0         0.0           0.0   \n",
       "\n",
       "        Total Amt Wtd Tax.  Average Revenue  Average Hrs  Frequency  \n",
       "110885              200.00       513.552621     9.529597         94  \n",
       "110893              200.00      1272.116706     7.767412         27  \n",
       "110895              200.00       305.447619     6.317403         75  \n",
       "110896              322.71       282.039596    12.336970         42  \n",
       "110897              329.70       807.952025     6.955190         33  \n",
       "...                    ...              ...          ...        ...  \n",
       "172577              363.81       305.447619     6.317403         75  \n",
       "172578              200.00       807.952025     6.955190         33  \n",
       "172579              200.00       513.552621     9.529597         94  \n",
       "172580              200.00      1272.116706     7.767412         27  \n",
       "176637              200.00       513.552621     9.529597         94  \n",
       "\n",
       "[333 rows x 35 columns]"
      ]
     },
     "execution_count": 19,
     "metadata": {},
     "output_type": "execute_result"
    }
   ],
   "source": [
    "merged_df[merged_df['Customer No.'] == '221957']"
   ]
  },
  {
   "cell_type": "code",
   "execution_count": 33,
   "metadata": {},
   "outputs": [],
   "source": [
    "dupciate_removed_df = merged_df.drop_duplicates(subset=['Order Type','Make','Model','City','Customer No.'],keep='first')"
   ]
  },
  {
   "cell_type": "code",
   "execution_count": 34,
   "metadata": {},
   "outputs": [
    {
     "data": {
      "text/html": [
       "<div>\n",
       "<style scoped>\n",
       "    .dataframe tbody tr th:only-of-type {\n",
       "        vertical-align: middle;\n",
       "    }\n",
       "\n",
       "    .dataframe tbody tr th {\n",
       "        vertical-align: top;\n",
       "    }\n",
       "\n",
       "    .dataframe thead th {\n",
       "        text-align: right;\n",
       "    }\n",
       "</style>\n",
       "<table border=\"1\" class=\"dataframe\">\n",
       "  <thead>\n",
       "    <tr style=\"text-align: right;\">\n",
       "      <th></th>\n",
       "      <th>Unnamed: 0</th>\n",
       "      <th>Invoice No</th>\n",
       "      <th>Job Card No</th>\n",
       "      <th>Customer No.</th>\n",
       "      <th>Cust Type</th>\n",
       "      <th>Partner Type</th>\n",
       "      <th>Order Type</th>\n",
       "      <th>Data Origin</th>\n",
       "      <th>User ID</th>\n",
       "      <th>Plant</th>\n",
       "      <th>Plant Name1</th>\n",
       "      <th>City</th>\n",
       "      <th>state</th>\n",
       "      <th>Zones</th>\n",
       "      <th>Make</th>\n",
       "      <th>Model</th>\n",
       "      <th>Price</th>\n",
       "      <th>Model Category</th>\n",
       "      <th>age</th>\n",
       "      <th>Days</th>\n",
       "      <th>ServiceHours</th>\n",
       "      <th>Service_Time</th>\n",
       "      <th>KMs Reading</th>\n",
       "      <th>Year</th>\n",
       "      <th>Month</th>\n",
       "      <th>Season</th>\n",
       "      <th>Labour Total</th>\n",
       "      <th>Parts Total</th>\n",
       "      <th>OSL Total</th>\n",
       "      <th>Misc Total</th>\n",
       "      <th>Recovrbl Exp</th>\n",
       "      <th>Total Amt Wtd Tax.</th>\n",
       "      <th>Average Revenue</th>\n",
       "      <th>Average Hrs</th>\n",
       "      <th>Frequency</th>\n",
       "    </tr>\n",
       "  </thead>\n",
       "  <tbody>\n",
       "    <tr>\n",
       "      <th>110885</th>\n",
       "      <td>405913</td>\n",
       "      <td>7154403125</td>\n",
       "      <td>432129</td>\n",
       "      <td>221957</td>\n",
       "      <td>Retail</td>\n",
       "      <td>1</td>\n",
       "      <td>Running Repairs</td>\n",
       "      <td>Z006</td>\n",
       "      <td>X022SA1</td>\n",
       "      <td>X022</td>\n",
       "      <td>X022 - ARASU CAR ACCESSORIES</td>\n",
       "      <td>thanjavur</td>\n",
       "      <td>Tamil Nadu</td>\n",
       "      <td>South</td>\n",
       "      <td>HYUNDAI</td>\n",
       "      <td>I10</td>\n",
       "      <td>589000</td>\n",
       "      <td>Mid Range</td>\n",
       "      <td>&gt;5</td>\n",
       "      <td>0</td>\n",
       "      <td>8.53</td>\n",
       "      <td>0 days 08:32:50.000000000</td>\n",
       "      <td>44501</td>\n",
       "      <td>2016</td>\n",
       "      <td>8</td>\n",
       "      <td>Monsoon</td>\n",
       "      <td>200.00</td>\n",
       "      <td>0.00</td>\n",
       "      <td>0.0</td>\n",
       "      <td>0.0</td>\n",
       "      <td>0.0</td>\n",
       "      <td>200.00</td>\n",
       "      <td>513.552621</td>\n",
       "      <td>9.529597</td>\n",
       "      <td>94</td>\n",
       "    </tr>\n",
       "    <tr>\n",
       "      <th>110893</th>\n",
       "      <td>405921</td>\n",
       "      <td>7154403133</td>\n",
       "      <td>433124</td>\n",
       "      <td>221957</td>\n",
       "      <td>Retail</td>\n",
       "      <td>1</td>\n",
       "      <td>Running Repairs</td>\n",
       "      <td>Z006</td>\n",
       "      <td>X022SA1</td>\n",
       "      <td>X022</td>\n",
       "      <td>X022 - ARASU CAR ACCESSORIES</td>\n",
       "      <td>thanjavur</td>\n",
       "      <td>Tamil Nadu</td>\n",
       "      <td>South</td>\n",
       "      <td>HYUNDAI</td>\n",
       "      <td>VERNA</td>\n",
       "      <td>930000</td>\n",
       "      <td>Mid Range</td>\n",
       "      <td>&gt;5</td>\n",
       "      <td>0</td>\n",
       "      <td>6.88</td>\n",
       "      <td>0 days 06:53:31.000000000</td>\n",
       "      <td>40325</td>\n",
       "      <td>2016</td>\n",
       "      <td>8</td>\n",
       "      <td>Monsoon</td>\n",
       "      <td>200.00</td>\n",
       "      <td>0.00</td>\n",
       "      <td>0.0</td>\n",
       "      <td>0.0</td>\n",
       "      <td>0.0</td>\n",
       "      <td>200.00</td>\n",
       "      <td>1272.116706</td>\n",
       "      <td>7.767412</td>\n",
       "      <td>27</td>\n",
       "    </tr>\n",
       "    <tr>\n",
       "      <th>110895</th>\n",
       "      <td>405923</td>\n",
       "      <td>7154403135</td>\n",
       "      <td>433449</td>\n",
       "      <td>221957</td>\n",
       "      <td>Retail</td>\n",
       "      <td>1</td>\n",
       "      <td>Running Repairs</td>\n",
       "      <td>Z006</td>\n",
       "      <td>X022SA1</td>\n",
       "      <td>X022</td>\n",
       "      <td>X022 - ARASU CAR ACCESSORIES</td>\n",
       "      <td>thanjavur</td>\n",
       "      <td>Tamil Nadu</td>\n",
       "      <td>South</td>\n",
       "      <td>HYUNDAI</td>\n",
       "      <td>I20</td>\n",
       "      <td>649000</td>\n",
       "      <td>Mid Range</td>\n",
       "      <td>01-Mar</td>\n",
       "      <td>0</td>\n",
       "      <td>3.02</td>\n",
       "      <td>0 days 03:01:49.000000000</td>\n",
       "      <td>9092</td>\n",
       "      <td>2016</td>\n",
       "      <td>8</td>\n",
       "      <td>Monsoon</td>\n",
       "      <td>200.00</td>\n",
       "      <td>0.00</td>\n",
       "      <td>0.0</td>\n",
       "      <td>0.0</td>\n",
       "      <td>0.0</td>\n",
       "      <td>200.00</td>\n",
       "      <td>305.447619</td>\n",
       "      <td>6.317403</td>\n",
       "      <td>75</td>\n",
       "    </tr>\n",
       "    <tr>\n",
       "      <th>110896</th>\n",
       "      <td>405924</td>\n",
       "      <td>7154403136</td>\n",
       "      <td>433233</td>\n",
       "      <td>221957</td>\n",
       "      <td>Retail</td>\n",
       "      <td>1</td>\n",
       "      <td>Running Repairs</td>\n",
       "      <td>Z006</td>\n",
       "      <td>X022SA1</td>\n",
       "      <td>X022</td>\n",
       "      <td>X022 - ARASU CAR ACCESSORIES</td>\n",
       "      <td>thanjavur</td>\n",
       "      <td>Tamil Nadu</td>\n",
       "      <td>South</td>\n",
       "      <td>HYUNDAI</td>\n",
       "      <td>XCENT</td>\n",
       "      <td>581000</td>\n",
       "      <td>Mid Range</td>\n",
       "      <td>01-Mar</td>\n",
       "      <td>0</td>\n",
       "      <td>6.43</td>\n",
       "      <td>0 days 06:26:54.000000000</td>\n",
       "      <td>12238</td>\n",
       "      <td>2016</td>\n",
       "      <td>8</td>\n",
       "      <td>Monsoon</td>\n",
       "      <td>299.99</td>\n",
       "      <td>22.72</td>\n",
       "      <td>0.0</td>\n",
       "      <td>0.0</td>\n",
       "      <td>0.0</td>\n",
       "      <td>322.71</td>\n",
       "      <td>282.039596</td>\n",
       "      <td>12.336970</td>\n",
       "      <td>42</td>\n",
       "    </tr>\n",
       "    <tr>\n",
       "      <th>110897</th>\n",
       "      <td>405925</td>\n",
       "      <td>7154403137</td>\n",
       "      <td>433416</td>\n",
       "      <td>221957</td>\n",
       "      <td>Retail</td>\n",
       "      <td>1</td>\n",
       "      <td>Running Repairs</td>\n",
       "      <td>Z006</td>\n",
       "      <td>X022SA1</td>\n",
       "      <td>X022</td>\n",
       "      <td>X022 - ARASU CAR ACCESSORIES</td>\n",
       "      <td>thanjavur</td>\n",
       "      <td>Tamil Nadu</td>\n",
       "      <td>South</td>\n",
       "      <td>HYUNDAI</td>\n",
       "      <td>SANTRO</td>\n",
       "      <td>457000</td>\n",
       "      <td>Budget Friendly</td>\n",
       "      <td>&gt;5</td>\n",
       "      <td>0</td>\n",
       "      <td>3.75</td>\n",
       "      <td>0 days 03:45:40.000000000</td>\n",
       "      <td>625209</td>\n",
       "      <td>2016</td>\n",
       "      <td>8</td>\n",
       "      <td>Monsoon</td>\n",
       "      <td>299.99</td>\n",
       "      <td>29.71</td>\n",
       "      <td>0.0</td>\n",
       "      <td>0.0</td>\n",
       "      <td>0.0</td>\n",
       "      <td>329.70</td>\n",
       "      <td>807.952025</td>\n",
       "      <td>6.955190</td>\n",
       "      <td>33</td>\n",
       "    </tr>\n",
       "    <tr>\n",
       "      <th>110907</th>\n",
       "      <td>405935</td>\n",
       "      <td>7154403147</td>\n",
       "      <td>434164</td>\n",
       "      <td>221957</td>\n",
       "      <td>Retail</td>\n",
       "      <td>1</td>\n",
       "      <td>Running Repairs</td>\n",
       "      <td>Z006</td>\n",
       "      <td>X022SA1</td>\n",
       "      <td>X022</td>\n",
       "      <td>X022 - ARASU CAR ACCESSORIES</td>\n",
       "      <td>thanjavur</td>\n",
       "      <td>Tamil Nadu</td>\n",
       "      <td>South</td>\n",
       "      <td>HYUNDAI</td>\n",
       "      <td>EON</td>\n",
       "      <td>395000</td>\n",
       "      <td>Budget Friendly</td>\n",
       "      <td>01-Mar</td>\n",
       "      <td>0</td>\n",
       "      <td>4.02</td>\n",
       "      <td>0 days 04:01:49.000000000</td>\n",
       "      <td>17332</td>\n",
       "      <td>2016</td>\n",
       "      <td>8</td>\n",
       "      <td>Monsoon</td>\n",
       "      <td>200.00</td>\n",
       "      <td>0.00</td>\n",
       "      <td>0.0</td>\n",
       "      <td>0.0</td>\n",
       "      <td>0.0</td>\n",
       "      <td>200.00</td>\n",
       "      <td>561.527007</td>\n",
       "      <td>10.879197</td>\n",
       "      <td>52</td>\n",
       "    </tr>\n",
       "    <tr>\n",
       "      <th>114920</th>\n",
       "      <td>409948</td>\n",
       "      <td>7154403182</td>\n",
       "      <td>435248</td>\n",
       "      <td>221957</td>\n",
       "      <td>Retail</td>\n",
       "      <td>1</td>\n",
       "      <td>Running Repairs</td>\n",
       "      <td>Z006</td>\n",
       "      <td>X022SA1</td>\n",
       "      <td>X022</td>\n",
       "      <td>X022 - ARASU CAR ACCESSORIES</td>\n",
       "      <td>thanjavur</td>\n",
       "      <td>Tamil Nadu</td>\n",
       "      <td>South</td>\n",
       "      <td>HYUNDAI</td>\n",
       "      <td>CRETA</td>\n",
       "      <td>999000</td>\n",
       "      <td>Mid Range</td>\n",
       "      <td>03-May</td>\n",
       "      <td>2</td>\n",
       "      <td>64.97</td>\n",
       "      <td>2 days 16:58:16.000000000</td>\n",
       "      <td>18810</td>\n",
       "      <td>2016</td>\n",
       "      <td>8</td>\n",
       "      <td>Monsoon</td>\n",
       "      <td>0.00</td>\n",
       "      <td>0.00</td>\n",
       "      <td>0.0</td>\n",
       "      <td>0.0</td>\n",
       "      <td>0.0</td>\n",
       "      <td>0.00</td>\n",
       "      <td>0.000000</td>\n",
       "      <td>33.845000</td>\n",
       "      <td>1</td>\n",
       "    </tr>\n",
       "    <tr>\n",
       "      <th>114956</th>\n",
       "      <td>409984</td>\n",
       "      <td>7154403218</td>\n",
       "      <td>439601</td>\n",
       "      <td>221957</td>\n",
       "      <td>Retail</td>\n",
       "      <td>1</td>\n",
       "      <td>Running Repairs</td>\n",
       "      <td>Z006</td>\n",
       "      <td>X022SA1</td>\n",
       "      <td>X022</td>\n",
       "      <td>X022 - ARASU CAR ACCESSORIES</td>\n",
       "      <td>thanjavur</td>\n",
       "      <td>Tamil Nadu</td>\n",
       "      <td>South</td>\n",
       "      <td>HYUNDAI</td>\n",
       "      <td>ACCENT</td>\n",
       "      <td>673000</td>\n",
       "      <td>Mid Range</td>\n",
       "      <td>&gt;5</td>\n",
       "      <td>0</td>\n",
       "      <td>4.03</td>\n",
       "      <td>0 days 04:02:40.000000000</td>\n",
       "      <td>97964</td>\n",
       "      <td>2016</td>\n",
       "      <td>8</td>\n",
       "      <td>Monsoon</td>\n",
       "      <td>200.00</td>\n",
       "      <td>0.00</td>\n",
       "      <td>0.0</td>\n",
       "      <td>0.0</td>\n",
       "      <td>0.0</td>\n",
       "      <td>200.00</td>\n",
       "      <td>2641.376000</td>\n",
       "      <td>19.210000</td>\n",
       "      <td>2</td>\n",
       "    </tr>\n",
       "    <tr>\n",
       "      <th>124458</th>\n",
       "      <td>419486</td>\n",
       "      <td>7154403285</td>\n",
       "      <td>446436</td>\n",
       "      <td>221957</td>\n",
       "      <td>Retail</td>\n",
       "      <td>1</td>\n",
       "      <td>Running Repairs</td>\n",
       "      <td>Z006</td>\n",
       "      <td>X022SA1</td>\n",
       "      <td>X022</td>\n",
       "      <td>X022 - ARASU CAR ACCESSORIES</td>\n",
       "      <td>thanjavur</td>\n",
       "      <td>Tamil Nadu</td>\n",
       "      <td>South</td>\n",
       "      <td>HYUNDAI</td>\n",
       "      <td>GETZ</td>\n",
       "      <td>399000</td>\n",
       "      <td>Budget Friendly</td>\n",
       "      <td>03-May</td>\n",
       "      <td>0</td>\n",
       "      <td>7.97</td>\n",
       "      <td>0 days 07:58:00.000000000</td>\n",
       "      <td>25546</td>\n",
       "      <td>2016</td>\n",
       "      <td>8</td>\n",
       "      <td>Monsoon</td>\n",
       "      <td>299.98</td>\n",
       "      <td>47.18</td>\n",
       "      <td>0.0</td>\n",
       "      <td>0.0</td>\n",
       "      <td>0.0</td>\n",
       "      <td>347.16</td>\n",
       "      <td>494.827500</td>\n",
       "      <td>3.280833</td>\n",
       "      <td>2</td>\n",
       "    </tr>\n",
       "    <tr>\n",
       "      <th>124471</th>\n",
       "      <td>419499</td>\n",
       "      <td>7154403298</td>\n",
       "      <td>447541</td>\n",
       "      <td>221957</td>\n",
       "      <td>Retail</td>\n",
       "      <td>1</td>\n",
       "      <td>Running Repairs</td>\n",
       "      <td>Z006</td>\n",
       "      <td>X022SA1</td>\n",
       "      <td>X022</td>\n",
       "      <td>X022 - ARASU CAR ACCESSORIES</td>\n",
       "      <td>thanjavur</td>\n",
       "      <td>Tamil Nadu</td>\n",
       "      <td>South</td>\n",
       "      <td>HYUNDAI</td>\n",
       "      <td>SANTA FE</td>\n",
       "      <td>2800000</td>\n",
       "      <td>Luxury</td>\n",
       "      <td>03-May</td>\n",
       "      <td>0</td>\n",
       "      <td>6.28</td>\n",
       "      <td>0 days 06:17:13.000000000</td>\n",
       "      <td>20975</td>\n",
       "      <td>2016</td>\n",
       "      <td>8</td>\n",
       "      <td>Monsoon</td>\n",
       "      <td>200.00</td>\n",
       "      <td>0.00</td>\n",
       "      <td>0.0</td>\n",
       "      <td>0.0</td>\n",
       "      <td>0.0</td>\n",
       "      <td>200.00</td>\n",
       "      <td>200.000000</td>\n",
       "      <td>6.280000</td>\n",
       "      <td>1</td>\n",
       "    </tr>\n",
       "    <tr>\n",
       "      <th>134798</th>\n",
       "      <td>429826</td>\n",
       "      <td>7154403398</td>\n",
       "      <td>457358</td>\n",
       "      <td>221957</td>\n",
       "      <td>Retail</td>\n",
       "      <td>1</td>\n",
       "      <td>Running Repairs</td>\n",
       "      <td>Z006</td>\n",
       "      <td>X022SA1</td>\n",
       "      <td>X022</td>\n",
       "      <td>X022 - ARASU CAR ACCESSORIES</td>\n",
       "      <td>thanjavur</td>\n",
       "      <td>Tamil Nadu</td>\n",
       "      <td>South</td>\n",
       "      <td>HYUNDAI</td>\n",
       "      <td>SANTRO XING</td>\n",
       "      <td>457000</td>\n",
       "      <td>Budget Friendly</td>\n",
       "      <td>&gt;5</td>\n",
       "      <td>0</td>\n",
       "      <td>0.83</td>\n",
       "      <td>0 days 00:50:33.000000000</td>\n",
       "      <td>79081</td>\n",
       "      <td>2016</td>\n",
       "      <td>9</td>\n",
       "      <td>Monsoon</td>\n",
       "      <td>200.00</td>\n",
       "      <td>0.00</td>\n",
       "      <td>0.0</td>\n",
       "      <td>0.0</td>\n",
       "      <td>0.0</td>\n",
       "      <td>200.00</td>\n",
       "      <td>498.076800</td>\n",
       "      <td>2.279600</td>\n",
       "      <td>2</td>\n",
       "    </tr>\n",
       "    <tr>\n",
       "      <th>146931</th>\n",
       "      <td>441959</td>\n",
       "      <td>7175601865</td>\n",
       "      <td>469487</td>\n",
       "      <td>221957</td>\n",
       "      <td>Retail</td>\n",
       "      <td>1</td>\n",
       "      <td>Running Repairs</td>\n",
       "      <td>Z006</td>\n",
       "      <td>X128WM1</td>\n",
       "      <td>X128</td>\n",
       "      <td>X128 - SRI LAKSHMI AUTOMOBILES</td>\n",
       "      <td>thiruvarur</td>\n",
       "      <td>Tamil Nadu</td>\n",
       "      <td>South</td>\n",
       "      <td>HYUNDAI</td>\n",
       "      <td>I20</td>\n",
       "      <td>649000</td>\n",
       "      <td>Mid Range</td>\n",
       "      <td>&gt;5</td>\n",
       "      <td>0</td>\n",
       "      <td>0.28</td>\n",
       "      <td>0 days 00:17:39.000000000</td>\n",
       "      <td>100625</td>\n",
       "      <td>2016</td>\n",
       "      <td>9</td>\n",
       "      <td>Monsoon</td>\n",
       "      <td>0.00</td>\n",
       "      <td>0.00</td>\n",
       "      <td>0.0</td>\n",
       "      <td>0.0</td>\n",
       "      <td>0.0</td>\n",
       "      <td>0.00</td>\n",
       "      <td>3097.260769</td>\n",
       "      <td>25.386923</td>\n",
       "      <td>1</td>\n",
       "    </tr>\n",
       "    <tr>\n",
       "      <th>162869</th>\n",
       "      <td>457897</td>\n",
       "      <td>7154403721</td>\n",
       "      <td>488219</td>\n",
       "      <td>221957</td>\n",
       "      <td>Retail</td>\n",
       "      <td>1</td>\n",
       "      <td>Paid Service</td>\n",
       "      <td>Z006</td>\n",
       "      <td>X022SA1</td>\n",
       "      <td>X022</td>\n",
       "      <td>X022 - ARASU CAR ACCESSORIES</td>\n",
       "      <td>thanjavur</td>\n",
       "      <td>Tamil Nadu</td>\n",
       "      <td>South</td>\n",
       "      <td>HYUNDAI</td>\n",
       "      <td>I20</td>\n",
       "      <td>649000</td>\n",
       "      <td>Mid Range</td>\n",
       "      <td>03-May</td>\n",
       "      <td>0</td>\n",
       "      <td>21.13</td>\n",
       "      <td>0 days 21:08:46.000000000</td>\n",
       "      <td>19672</td>\n",
       "      <td>2016</td>\n",
       "      <td>10</td>\n",
       "      <td>Winter</td>\n",
       "      <td>299.98</td>\n",
       "      <td>25.34</td>\n",
       "      <td>0.0</td>\n",
       "      <td>0.0</td>\n",
       "      <td>0.0</td>\n",
       "      <td>325.32</td>\n",
       "      <td>1427.713000</td>\n",
       "      <td>9.136000</td>\n",
       "      <td>1</td>\n",
       "    </tr>\n",
       "  </tbody>\n",
       "</table>\n",
       "</div>"
      ],
      "text/plain": [
       "        Unnamed: 0  Invoice No  Job Card No Customer No. Cust Type  \\\n",
       "110885      405913  7154403125       432129       221957    Retail   \n",
       "110893      405921  7154403133       433124       221957    Retail   \n",
       "110895      405923  7154403135       433449       221957    Retail   \n",
       "110896      405924  7154403136       433233       221957    Retail   \n",
       "110897      405925  7154403137       433416       221957    Retail   \n",
       "110907      405935  7154403147       434164       221957    Retail   \n",
       "114920      409948  7154403182       435248       221957    Retail   \n",
       "114956      409984  7154403218       439601       221957    Retail   \n",
       "124458      419486  7154403285       446436       221957    Retail   \n",
       "124471      419499  7154403298       447541       221957    Retail   \n",
       "134798      429826  7154403398       457358       221957    Retail   \n",
       "146931      441959  7175601865       469487       221957    Retail   \n",
       "162869      457897  7154403721       488219       221957    Retail   \n",
       "\n",
       "        Partner Type       Order Type Data Origin  User ID Plant  \\\n",
       "110885             1  Running Repairs        Z006  X022SA1  X022   \n",
       "110893             1  Running Repairs        Z006  X022SA1  X022   \n",
       "110895             1  Running Repairs        Z006  X022SA1  X022   \n",
       "110896             1  Running Repairs        Z006  X022SA1  X022   \n",
       "110897             1  Running Repairs        Z006  X022SA1  X022   \n",
       "110907             1  Running Repairs        Z006  X022SA1  X022   \n",
       "114920             1  Running Repairs        Z006  X022SA1  X022   \n",
       "114956             1  Running Repairs        Z006  X022SA1  X022   \n",
       "124458             1  Running Repairs        Z006  X022SA1  X022   \n",
       "124471             1  Running Repairs        Z006  X022SA1  X022   \n",
       "134798             1  Running Repairs        Z006  X022SA1  X022   \n",
       "146931             1  Running Repairs        Z006  X128WM1  X128   \n",
       "162869             1     Paid Service        Z006  X022SA1  X022   \n",
       "\n",
       "                           Plant Name1        City       state  Zones  \\\n",
       "110885    X022 - ARASU CAR ACCESSORIES   thanjavur  Tamil Nadu  South   \n",
       "110893    X022 - ARASU CAR ACCESSORIES   thanjavur  Tamil Nadu  South   \n",
       "110895    X022 - ARASU CAR ACCESSORIES   thanjavur  Tamil Nadu  South   \n",
       "110896    X022 - ARASU CAR ACCESSORIES   thanjavur  Tamil Nadu  South   \n",
       "110897    X022 - ARASU CAR ACCESSORIES   thanjavur  Tamil Nadu  South   \n",
       "110907    X022 - ARASU CAR ACCESSORIES   thanjavur  Tamil Nadu  South   \n",
       "114920    X022 - ARASU CAR ACCESSORIES   thanjavur  Tamil Nadu  South   \n",
       "114956    X022 - ARASU CAR ACCESSORIES   thanjavur  Tamil Nadu  South   \n",
       "124458    X022 - ARASU CAR ACCESSORIES   thanjavur  Tamil Nadu  South   \n",
       "124471    X022 - ARASU CAR ACCESSORIES   thanjavur  Tamil Nadu  South   \n",
       "134798    X022 - ARASU CAR ACCESSORIES   thanjavur  Tamil Nadu  South   \n",
       "146931  X128 - SRI LAKSHMI AUTOMOBILES  thiruvarur  Tamil Nadu  South   \n",
       "162869    X022 - ARASU CAR ACCESSORIES   thanjavur  Tamil Nadu  South   \n",
       "\n",
       "           Make        Model    Price   Model Category     age  Days  \\\n",
       "110885  HYUNDAI          I10   589000        Mid Range      >5     0   \n",
       "110893  HYUNDAI        VERNA   930000        Mid Range      >5     0   \n",
       "110895  HYUNDAI          I20   649000        Mid Range  01-Mar     0   \n",
       "110896  HYUNDAI        XCENT   581000        Mid Range  01-Mar     0   \n",
       "110897  HYUNDAI       SANTRO   457000  Budget Friendly      >5     0   \n",
       "110907  HYUNDAI          EON   395000  Budget Friendly  01-Mar     0   \n",
       "114920  HYUNDAI        CRETA   999000        Mid Range  03-May     2   \n",
       "114956  HYUNDAI       ACCENT   673000        Mid Range      >5     0   \n",
       "124458  HYUNDAI         GETZ   399000  Budget Friendly  03-May     0   \n",
       "124471  HYUNDAI     SANTA FE  2800000           Luxury  03-May     0   \n",
       "134798  HYUNDAI  SANTRO XING   457000  Budget Friendly      >5     0   \n",
       "146931  HYUNDAI          I20   649000        Mid Range      >5     0   \n",
       "162869  HYUNDAI          I20   649000        Mid Range  03-May     0   \n",
       "\n",
       "        ServiceHours               Service_Time  KMs Reading  Year  Month  \\\n",
       "110885          8.53  0 days 08:32:50.000000000        44501  2016      8   \n",
       "110893          6.88  0 days 06:53:31.000000000        40325  2016      8   \n",
       "110895          3.02  0 days 03:01:49.000000000         9092  2016      8   \n",
       "110896          6.43  0 days 06:26:54.000000000        12238  2016      8   \n",
       "110897          3.75  0 days 03:45:40.000000000       625209  2016      8   \n",
       "110907          4.02  0 days 04:01:49.000000000        17332  2016      8   \n",
       "114920         64.97  2 days 16:58:16.000000000        18810  2016      8   \n",
       "114956          4.03  0 days 04:02:40.000000000        97964  2016      8   \n",
       "124458          7.97  0 days 07:58:00.000000000        25546  2016      8   \n",
       "124471          6.28  0 days 06:17:13.000000000        20975  2016      8   \n",
       "134798          0.83  0 days 00:50:33.000000000        79081  2016      9   \n",
       "146931          0.28  0 days 00:17:39.000000000       100625  2016      9   \n",
       "162869         21.13  0 days 21:08:46.000000000        19672  2016     10   \n",
       "\n",
       "         Season  Labour Total  Parts Total  OSL Total  Misc Total  \\\n",
       "110885  Monsoon        200.00         0.00        0.0         0.0   \n",
       "110893  Monsoon        200.00         0.00        0.0         0.0   \n",
       "110895  Monsoon        200.00         0.00        0.0         0.0   \n",
       "110896  Monsoon        299.99        22.72        0.0         0.0   \n",
       "110897  Monsoon        299.99        29.71        0.0         0.0   \n",
       "110907  Monsoon        200.00         0.00        0.0         0.0   \n",
       "114920  Monsoon          0.00         0.00        0.0         0.0   \n",
       "114956  Monsoon        200.00         0.00        0.0         0.0   \n",
       "124458  Monsoon        299.98        47.18        0.0         0.0   \n",
       "124471  Monsoon        200.00         0.00        0.0         0.0   \n",
       "134798  Monsoon        200.00         0.00        0.0         0.0   \n",
       "146931  Monsoon          0.00         0.00        0.0         0.0   \n",
       "162869   Winter        299.98        25.34        0.0         0.0   \n",
       "\n",
       "        Recovrbl Exp  Total Amt Wtd Tax.  Average Revenue  Average Hrs  \\\n",
       "110885           0.0              200.00       513.552621     9.529597   \n",
       "110893           0.0              200.00      1272.116706     7.767412   \n",
       "110895           0.0              200.00       305.447619     6.317403   \n",
       "110896           0.0              322.71       282.039596    12.336970   \n",
       "110897           0.0              329.70       807.952025     6.955190   \n",
       "110907           0.0              200.00       561.527007    10.879197   \n",
       "114920           0.0                0.00         0.000000    33.845000   \n",
       "114956           0.0              200.00      2641.376000    19.210000   \n",
       "124458           0.0              347.16       494.827500     3.280833   \n",
       "124471           0.0              200.00       200.000000     6.280000   \n",
       "134798           0.0              200.00       498.076800     2.279600   \n",
       "146931           0.0                0.00      3097.260769    25.386923   \n",
       "162869           0.0              325.32      1427.713000     9.136000   \n",
       "\n",
       "        Frequency  \n",
       "110885         94  \n",
       "110893         27  \n",
       "110895         75  \n",
       "110896         42  \n",
       "110897         33  \n",
       "110907         52  \n",
       "114920          1  \n",
       "114956          2  \n",
       "124458          2  \n",
       "124471          1  \n",
       "134798          2  \n",
       "146931          1  \n",
       "162869          1  "
      ]
     },
     "execution_count": 34,
     "metadata": {},
     "output_type": "execute_result"
    }
   ],
   "source": [
    "dupciate_removed_df[dupciate_removed_df['Customer No.'] == '221957']"
   ]
  },
  {
   "cell_type": "code",
   "execution_count": 22,
   "metadata": {},
   "outputs": [
    {
     "data": {
      "text/plain": [
       "Index(['Unnamed: 0', 'Invoice No', 'Job Card No', 'Customer No.', 'Cust Type',\n",
       "       'Partner Type', 'Order Type', 'Data Origin', 'User ID', 'Plant',\n",
       "       'Plant Name1', 'City', 'state', 'Zones', 'Make', 'Model', 'Price',\n",
       "       'Model Category', 'age', 'Days', 'ServiceHours', 'Service_Time',\n",
       "       'KMs Reading', 'Year', 'Month', 'Season', 'Labour Total', 'Parts Total',\n",
       "       'OSL Total', 'Misc Total', 'Recovrbl Exp', 'Total Amt Wtd Tax.',\n",
       "       'Average Revenue', 'Average Hrs', 'Frequency'],\n",
       "      dtype='object')"
      ]
     },
     "execution_count": 22,
     "metadata": {},
     "output_type": "execute_result"
    }
   ],
   "source": [
    "dupciate_removed_df.columns"
   ]
  },
  {
   "cell_type": "code",
   "execution_count": 35,
   "metadata": {},
   "outputs": [],
   "source": [
    "final_df = dupciate_removed_df.drop(['Invoice No', 'Job Card No', 'Customer No.','Partner Type','Plant Name1',\n",
    "                                     'state', 'Zones','age', 'Days','ServiceHours', 'Service_Time','Year', 'Month',\n",
    "                                    'Price','Labour Total','Parts Total','OSL Total', 'Misc Total', 'Recovrbl Exp',\n",
    "                                    'Unnamed: 0','Total Amt Wtd Tax.'],1)"
   ]
  },
  {
   "cell_type": "code",
   "execution_count": 36,
   "metadata": {},
   "outputs": [
    {
     "data": {
      "text/plain": [
       "Index(['Cust Type', 'Order Type', 'Data Origin', 'User ID', 'Plant', 'City',\n",
       "       'Make', 'Model', 'Model Category', 'KMs Reading', 'Season',\n",
       "       'Average Revenue', 'Average Hrs', 'Frequency'],\n",
       "      dtype='object')"
      ]
     },
     "execution_count": 36,
     "metadata": {},
     "output_type": "execute_result"
    }
   ],
   "source": [
    "final_df.columns"
   ]
  },
  {
   "cell_type": "code",
   "execution_count": 37,
   "metadata": {},
   "outputs": [
    {
     "data": {
      "text/plain": [
       "(161235, 14)"
      ]
     },
     "execution_count": 37,
     "metadata": {},
     "output_type": "execute_result"
    }
   ],
   "source": [
    "final_df.shape"
   ]
  },
  {
   "cell_type": "code",
   "execution_count": 38,
   "metadata": {},
   "outputs": [],
   "source": [
    "final_df['LTV'] = round((final_df['Frequency'] * final_df['Average Revenue']),2)"
   ]
  },
  {
   "cell_type": "code",
   "execution_count": 39,
   "metadata": {},
   "outputs": [],
   "source": [
    "final_df =  final_df[final_df['LTV']>0]"
   ]
  },
  {
   "cell_type": "code",
   "execution_count": 40,
   "metadata": {},
   "outputs": [
    {
     "data": {
      "text/plain": [
       "(159386, 15)"
      ]
     },
     "execution_count": 40,
     "metadata": {},
     "output_type": "execute_result"
    }
   ],
   "source": [
    "final_df.shape"
   ]
  },
  {
   "cell_type": "code",
   "execution_count": 41,
   "metadata": {},
   "outputs": [
    {
     "data": {
      "text/plain": [
       "<matplotlib.axes._subplots.AxesSubplot at 0x1f10eda0b08>"
      ]
     },
     "execution_count": 41,
     "metadata": {},
     "output_type": "execute_result"
    },
    {
     "data": {
      "image/png": "[encoded data removed]",
      "text/plain": [
       "<Figure size 432x288 with 1 Axes>"
      ]
     },
     "metadata": {
      "needs_background": "light"
     },
     "output_type": "display_data"
    }
   ],
   "source": [
    "final_df['LTV'].hist()"
   ]
  },
  {
   "cell_type": "code",
   "execution_count": 42,
   "metadata": {},
   "outputs": [
    {
     "name": "stdout",
     "output_type": "stream",
     "text": [
      "0.05 quantile :- 376.43\n",
      "0.25 quantile :- 1449.51\n",
      "0.50 quantile :- 2883.36\n",
      "0.75 quantile :- 5444.07\n",
      "0.95 quantile :- 16939.39\n",
      "minimum LTV :- 0.01\n",
      "maximum LTV :- 1593623.29\n",
      "mean LTV :- 5189.063807423652\n"
     ]
    }
   ],
   "source": [
    "print(\"0.05 quantile :-\",final_df['LTV'].quantile(0.05))\n",
    "print(\"0.25 quantile :-\",final_df['LTV'].quantile(0.25))\n",
    "print(\"0.50 quantile :-\",final_df['LTV'].quantile(0.50))\n",
    "print(\"0.75 quantile :-\",final_df['LTV'].quantile(0.75))\n",
    "print(\"0.95 quantile :-\",final_df['LTV'].quantile(0.95))\n",
    "print(\"minimum LTV :-\",final_df['LTV'].min())\n",
    "print(\"maximum LTV :-\",final_df['LTV'].max())\n",
    "print(\"mean LTV :-\",final_df['LTV'].mean())"
   ]
  },
  {
   "cell_type": "code",
   "execution_count": 43,
   "metadata": {},
   "outputs": [
    {
     "name": "stdout",
     "output_type": "stream",
     "text": [
      "(79706, 15)\n",
      "(39836, 15)\n",
      "(39844, 15)\n"
     ]
    }
   ],
   "source": [
    "print(final_df[final_df['LTV']<=2883.36].shape)\n",
    "print(final_df[(final_df['LTV']>2883.36 ) & (final_df['LTV']<=5444.07)].shape)\n",
    "print(final_df[final_df['LTV']>5444.07].shape)"
   ]
  },
  {
   "cell_type": "code",
   "execution_count": 44,
   "metadata": {},
   "outputs": [],
   "source": [
    "bins=[-1,2883.36,5444.07,1593623.29]\n",
    "labels=['Low','Medium','High']\n",
    "final_df['Customer Category']=pd.cut(final_df['LTV'], bins=bins, labels=labels)"
   ]
  },
  {
   "cell_type": "code",
   "execution_count": 45,
   "metadata": {},
   "outputs": [
    {
     "data": {
      "text/plain": [
       "Low       79706\n",
       "High      39844\n",
       "Medium    39836\n",
       "Name: Customer Category, dtype: int64"
      ]
     },
     "execution_count": 45,
     "metadata": {},
     "output_type": "execute_result"
    }
   ],
   "source": [
    "final_df['Customer Category'].value_counts()"
   ]
  },
  {
   "cell_type": "code",
   "execution_count": 46,
   "metadata": {},
   "outputs": [
    {
     "data": {
      "text/html": [
       "<div>\n",
       "<style scoped>\n",
       "    .dataframe tbody tr th:only-of-type {\n",
       "        vertical-align: middle;\n",
       "    }\n",
       "\n",
       "    .dataframe tbody tr th {\n",
       "        vertical-align: top;\n",
       "    }\n",
       "\n",
       "    .dataframe thead th {\n",
       "        text-align: right;\n",
       "    }\n",
       "</style>\n",
       "<table border=\"1\" class=\"dataframe\">\n",
       "  <thead>\n",
       "    <tr style=\"text-align: right;\">\n",
       "      <th></th>\n",
       "      <th>Cust Type</th>\n",
       "      <th>Order Type</th>\n",
       "      <th>Data Origin</th>\n",
       "      <th>User ID</th>\n",
       "      <th>Plant</th>\n",
       "      <th>City</th>\n",
       "      <th>Make</th>\n",
       "      <th>Model</th>\n",
       "      <th>Model Category</th>\n",
       "      <th>KMs Reading</th>\n",
       "      <th>Season</th>\n",
       "      <th>Average Revenue</th>\n",
       "      <th>Average Hrs</th>\n",
       "      <th>Frequency</th>\n",
       "      <th>LTV</th>\n",
       "      <th>Customer Category</th>\n",
       "    </tr>\n",
       "  </thead>\n",
       "  <tbody>\n",
       "    <tr>\n",
       "      <th>0</th>\n",
       "      <td>Retail</td>\n",
       "      <td>SMC Value Package</td>\n",
       "      <td>Z005</td>\n",
       "      <td>BC01SA2</td>\n",
       "      <td>BC01</td>\n",
       "      <td>thane</td>\n",
       "      <td>MARUTI SUZUKI</td>\n",
       "      <td>ZEN ESTILO</td>\n",
       "      <td>Budget Friendly</td>\n",
       "      <td>35654</td>\n",
       "      <td>Winter</td>\n",
       "      <td>3166.237333</td>\n",
       "      <td>23.585333</td>\n",
       "      <td>1</td>\n",
       "      <td>3166.24</td>\n",
       "      <td>Medium</td>\n",
       "    </tr>\n",
       "    <tr>\n",
       "      <th>1</th>\n",
       "      <td>Retail</td>\n",
       "      <td>Running Repairs</td>\n",
       "      <td>Z001</td>\n",
       "      <td>BC01SA2</td>\n",
       "      <td>BC01</td>\n",
       "      <td>thane</td>\n",
       "      <td>MARUTI SUZUKI</td>\n",
       "      <td>SWIFT</td>\n",
       "      <td>Budget Friendly</td>\n",
       "      <td>70730</td>\n",
       "      <td>Winter</td>\n",
       "      <td>2485.665090</td>\n",
       "      <td>45.172803</td>\n",
       "      <td>1</td>\n",
       "      <td>2485.67</td>\n",
       "      <td>Low</td>\n",
       "    </tr>\n",
       "    <tr>\n",
       "      <th>2</th>\n",
       "      <td>Retail</td>\n",
       "      <td>SMC Redemption</td>\n",
       "      <td>Z005</td>\n",
       "      <td>BC01SA2</td>\n",
       "      <td>BC01</td>\n",
       "      <td>thane</td>\n",
       "      <td>MARUTI SUZUKI</td>\n",
       "      <td>ZEN ESTILO</td>\n",
       "      <td>Budget Friendly</td>\n",
       "      <td>163215</td>\n",
       "      <td>Winter</td>\n",
       "      <td>60.363636</td>\n",
       "      <td>150.801818</td>\n",
       "      <td>1</td>\n",
       "      <td>60.36</td>\n",
       "      <td>Low</td>\n",
       "    </tr>\n",
       "    <tr>\n",
       "      <th>3</th>\n",
       "      <td>Retail</td>\n",
       "      <td>Running Repairs</td>\n",
       "      <td>Z001</td>\n",
       "      <td>BC01SA2</td>\n",
       "      <td>BC01</td>\n",
       "      <td>thane</td>\n",
       "      <td>FIAT</td>\n",
       "      <td>PALIO</td>\n",
       "      <td>Budget Friendly</td>\n",
       "      <td>50220</td>\n",
       "      <td>Winter</td>\n",
       "      <td>2708.158077</td>\n",
       "      <td>112.535769</td>\n",
       "      <td>1</td>\n",
       "      <td>2708.16</td>\n",
       "      <td>Low</td>\n",
       "    </tr>\n",
       "    <tr>\n",
       "      <th>4</th>\n",
       "      <td>Retail</td>\n",
       "      <td>Paid Service</td>\n",
       "      <td>Z001</td>\n",
       "      <td>BC01SA2</td>\n",
       "      <td>BC01</td>\n",
       "      <td>thane</td>\n",
       "      <td>MARUTI SUZUKI</td>\n",
       "      <td>SWIFT</td>\n",
       "      <td>Budget Friendly</td>\n",
       "      <td>79061</td>\n",
       "      <td>Winter</td>\n",
       "      <td>4085.619921</td>\n",
       "      <td>63.472823</td>\n",
       "      <td>1</td>\n",
       "      <td>4085.62</td>\n",
       "      <td>Medium</td>\n",
       "    </tr>\n",
       "  </tbody>\n",
       "</table>\n",
       "</div>"
      ],
      "text/plain": [
       "  Cust Type         Order Type Data Origin  User ID Plant   City  \\\n",
       "0    Retail  SMC Value Package        Z005  BC01SA2  BC01  thane   \n",
       "1    Retail    Running Repairs        Z001  BC01SA2  BC01  thane   \n",
       "2    Retail     SMC Redemption        Z005  BC01SA2  BC01  thane   \n",
       "3    Retail    Running Repairs        Z001  BC01SA2  BC01  thane   \n",
       "4    Retail       Paid Service        Z001  BC01SA2  BC01  thane   \n",
       "\n",
       "            Make       Model   Model Category  KMs Reading  Season  \\\n",
       "0  MARUTI SUZUKI  ZEN ESTILO  Budget Friendly        35654  Winter   \n",
       "1  MARUTI SUZUKI       SWIFT  Budget Friendly        70730  Winter   \n",
       "2  MARUTI SUZUKI  ZEN ESTILO  Budget Friendly       163215  Winter   \n",
       "3           FIAT       PALIO  Budget Friendly        50220  Winter   \n",
       "4  MARUTI SUZUKI       SWIFT  Budget Friendly        79061  Winter   \n",
       "\n",
       "   Average Revenue  Average Hrs  Frequency      LTV Customer Category  \n",
       "0      3166.237333    23.585333          1  3166.24            Medium  \n",
       "1      2485.665090    45.172803          1  2485.67               Low  \n",
       "2        60.363636   150.801818          1    60.36               Low  \n",
       "3      2708.158077   112.535769          1  2708.16               Low  \n",
       "4      4085.619921    63.472823          1  4085.62            Medium  "
      ]
     },
     "execution_count": 46,
     "metadata": {},
     "output_type": "execute_result"
    }
   ],
   "source": [
    "final_df.head()"
   ]
  },
  {
   "cell_type": "code",
   "execution_count": 47,
   "metadata": {},
   "outputs": [],
   "source": [
    "from sklearn.preprocessing import LabelEncoder,StandardScaler"
   ]
  },
  {
   "cell_type": "code",
   "execution_count": 48,
   "metadata": {},
   "outputs": [],
   "source": [
    "model_df =  final_df.copy()"
   ]
  },
  {
   "cell_type": "code",
   "execution_count": 49,
   "metadata": {},
   "outputs": [],
   "source": [
    "le=LabelEncoder()\n",
    "model_df[\"Cust Type\"]=le.fit_transform(model_df[\"Cust Type\"])\n",
    "model_df[\"Order Type\"]=le.fit_transform(model_df[\"Order Type\"])\n",
    "model_df[\"Data Origin\"]=le.fit_transform(model_df[\"Data Origin\"])\n",
    "model_df[\"User ID\"]=le.fit_transform(model_df[\"User ID\"])\n",
    "model_df[\"Plant\"]=le.fit_transform(model_df[\"Plant\"])\n",
    "model_df[\"City\"]=le.fit_transform(model_df[\"City\"])\n",
    "model_df[\"Make\"]=le.fit_transform(model_df[\"Make\"])\n",
    "model_df[\"Model\"]=le.fit_transform(model_df[\"Model\"])\n",
    "model_df[\"Model Category\"]=le.fit_transform(model_df[\"Model Category\"])\n",
    "model_df[\"Season\"]=le.fit_transform(model_df[\"Season\"])\n",
    "model_df[\"Customer Category\"]=le.fit_transform(model_df[\"Customer Category\"])"
   ]
  },
  {
   "cell_type": "code",
   "execution_count": 50,
   "metadata": {},
   "outputs": [
    {
     "data": {
      "text/html": [
       "<div>\n",
       "<style scoped>\n",
       "    .dataframe tbody tr th:only-of-type {\n",
       "        vertical-align: middle;\n",
       "    }\n",
       "\n",
       "    .dataframe tbody tr th {\n",
       "        vertical-align: top;\n",
       "    }\n",
       "\n",
       "    .dataframe thead th {\n",
       "        text-align: right;\n",
       "    }\n",
       "</style>\n",
       "<table border=\"1\" class=\"dataframe\">\n",
       "  <thead>\n",
       "    <tr style=\"text-align: right;\">\n",
       "      <th></th>\n",
       "      <th>Cust Type</th>\n",
       "      <th>Order Type</th>\n",
       "      <th>Data Origin</th>\n",
       "      <th>User ID</th>\n",
       "      <th>Plant</th>\n",
       "      <th>City</th>\n",
       "      <th>Make</th>\n",
       "      <th>Model</th>\n",
       "      <th>Model Category</th>\n",
       "      <th>KMs Reading</th>\n",
       "      <th>Season</th>\n",
       "      <th>Average Revenue</th>\n",
       "      <th>Average Hrs</th>\n",
       "      <th>Frequency</th>\n",
       "      <th>LTV</th>\n",
       "      <th>Customer Category</th>\n",
       "    </tr>\n",
       "  </thead>\n",
       "  <tbody>\n",
       "    <tr>\n",
       "      <th>0</th>\n",
       "      <td>5</td>\n",
       "      <td>5</td>\n",
       "      <td>4</td>\n",
       "      <td>3</td>\n",
       "      <td>0</td>\n",
       "      <td>160</td>\n",
       "      <td>13</td>\n",
       "      <td>232</td>\n",
       "      <td>0</td>\n",
       "      <td>35654</td>\n",
       "      <td>2</td>\n",
       "      <td>3166.237333</td>\n",
       "      <td>23.585333</td>\n",
       "      <td>1</td>\n",
       "      <td>3166.24</td>\n",
       "      <td>2</td>\n",
       "    </tr>\n",
       "    <tr>\n",
       "      <th>1</th>\n",
       "      <td>5</td>\n",
       "      <td>3</td>\n",
       "      <td>0</td>\n",
       "      <td>3</td>\n",
       "      <td>0</td>\n",
       "      <td>160</td>\n",
       "      <td>13</td>\n",
       "      <td>192</td>\n",
       "      <td>0</td>\n",
       "      <td>70730</td>\n",
       "      <td>2</td>\n",
       "      <td>2485.665090</td>\n",
       "      <td>45.172803</td>\n",
       "      <td>1</td>\n",
       "      <td>2485.67</td>\n",
       "      <td>1</td>\n",
       "    </tr>\n",
       "    <tr>\n",
       "      <th>2</th>\n",
       "      <td>5</td>\n",
       "      <td>4</td>\n",
       "      <td>4</td>\n",
       "      <td>3</td>\n",
       "      <td>0</td>\n",
       "      <td>160</td>\n",
       "      <td>13</td>\n",
       "      <td>232</td>\n",
       "      <td>0</td>\n",
       "      <td>163215</td>\n",
       "      <td>2</td>\n",
       "      <td>60.363636</td>\n",
       "      <td>150.801818</td>\n",
       "      <td>1</td>\n",
       "      <td>60.36</td>\n",
       "      <td>1</td>\n",
       "    </tr>\n",
       "    <tr>\n",
       "      <th>3</th>\n",
       "      <td>5</td>\n",
       "      <td>3</td>\n",
       "      <td>0</td>\n",
       "      <td>3</td>\n",
       "      <td>0</td>\n",
       "      <td>160</td>\n",
       "      <td>3</td>\n",
       "      <td>147</td>\n",
       "      <td>0</td>\n",
       "      <td>50220</td>\n",
       "      <td>2</td>\n",
       "      <td>2708.158077</td>\n",
       "      <td>112.535769</td>\n",
       "      <td>1</td>\n",
       "      <td>2708.16</td>\n",
       "      <td>1</td>\n",
       "    </tr>\n",
       "    <tr>\n",
       "      <th>4</th>\n",
       "      <td>5</td>\n",
       "      <td>2</td>\n",
       "      <td>0</td>\n",
       "      <td>3</td>\n",
       "      <td>0</td>\n",
       "      <td>160</td>\n",
       "      <td>13</td>\n",
       "      <td>192</td>\n",
       "      <td>0</td>\n",
       "      <td>79061</td>\n",
       "      <td>2</td>\n",
       "      <td>4085.619921</td>\n",
       "      <td>63.472823</td>\n",
       "      <td>1</td>\n",
       "      <td>4085.62</td>\n",
       "      <td>2</td>\n",
       "    </tr>\n",
       "  </tbody>\n",
       "</table>\n",
       "</div>"
      ],
      "text/plain": [
       "   Cust Type  Order Type  Data Origin  User ID  Plant  City  Make  Model  \\\n",
       "0          5           5            4        3      0   160    13    232   \n",
       "1          5           3            0        3      0   160    13    192   \n",
       "2          5           4            4        3      0   160    13    232   \n",
       "3          5           3            0        3      0   160     3    147   \n",
       "4          5           2            0        3      0   160    13    192   \n",
       "\n",
       "   Model Category  KMs Reading  Season  Average Revenue  Average Hrs  \\\n",
       "0               0        35654       2      3166.237333    23.585333   \n",
       "1               0        70730       2      2485.665090    45.172803   \n",
       "2               0       163215       2        60.363636   150.801818   \n",
       "3               0        50220       2      2708.158077   112.535769   \n",
       "4               0        79061       2      4085.619921    63.472823   \n",
       "\n",
       "   Frequency      LTV  Customer Category  \n",
       "0          1  3166.24                  2  \n",
       "1          1  2485.67                  1  \n",
       "2          1    60.36                  1  \n",
       "3          1  2708.16                  1  \n",
       "4          1  4085.62                  2  "
      ]
     },
     "execution_count": 50,
     "metadata": {},
     "output_type": "execute_result"
    }
   ],
   "source": [
    "model_df.head()"
   ]
  },
  {
   "cell_type": "code",
   "execution_count": 51,
   "metadata": {},
   "outputs": [],
   "source": [
    "X = model_df.drop(['Customer Category','Frequency','LTV'],1)\n",
    "y= model_df['Customer Category']"
   ]
  },
  {
   "cell_type": "code",
   "execution_count": 52,
   "metadata": {},
   "outputs": [
    {
     "data": {
      "text/plain": [
       "Index(['Cust Type', 'Order Type', 'Data Origin', 'User ID', 'Plant', 'City',\n",
       "       'Make', 'Model', 'Model Category', 'KMs Reading', 'Season',\n",
       "       'Average Revenue', 'Average Hrs'],\n",
       "      dtype='object')"
      ]
     },
     "execution_count": 52,
     "metadata": {},
     "output_type": "execute_result"
    }
   ],
   "source": [
    "X.columns"
   ]
  },
  {
   "cell_type": "code",
   "execution_count": 53,
   "metadata": {},
   "outputs": [],
   "source": [
    "X_train,X_test,y_train,y_test=tts(X,y,test_size=0.3,random_state=0)"
   ]
  },
  {
   "cell_type": "code",
   "execution_count": 54,
   "metadata": {},
   "outputs": [],
   "source": [
    "from sklearn.model_selection import GridSearchCV, cross_val_score,RandomizedSearchCV"
   ]
  },
  {
   "cell_type": "markdown",
   "metadata": {},
   "source": [
    "#### Decision Tree Baseline Model"
   ]
  },
  {
   "cell_type": "code",
   "execution_count": 56,
   "metadata": {},
   "outputs": [
    {
     "name": "stdout",
     "output_type": "stream",
     "text": [
      "              precision    recall  f1-score   support\n",
      "\n",
      "           0       0.83      0.85      0.84     12027\n",
      "           1       0.92      0.91      0.91     23957\n",
      "           2       0.75      0.75      0.75     11832\n",
      "\n",
      "    accuracy                           0.85     47816\n",
      "   macro avg       0.83      0.83      0.83     47816\n",
      "weighted avg       0.85      0.85      0.85     47816\n",
      "\n"
     ]
    }
   ],
   "source": [
    "dt = DecisionTreeClassifier()\n",
    "\n",
    "dt.fit(X_train,y_train)\n",
    "\n",
    "y_pred_dt = dt.predict(X_test)\n",
    "y_pred_dt_train = dt.predict(X_train)\n",
    "\n",
    "print(classification_report(y_test,y_pred_dt))"
   ]
  },
  {
   "cell_type": "code",
   "execution_count": 58,
   "metadata": {},
   "outputs": [
    {
     "name": "stdout",
     "output_type": "stream",
     "text": [
      " Testing Accuracy :- 0.8531244771624561\n",
      "Training Accuracy :- 0.9999282961369543\n"
     ]
    }
   ],
   "source": [
    "print(\" Testing Accuracy :-\" , accuracy_score(y_test,y_pred_dt))\n",
    "print(\"Training Accuracy :-\" ,accuracy_score(y_train,y_pred_dt_train))"
   ]
  },
  {
   "cell_type": "code",
   "execution_count": 59,
   "metadata": {},
   "outputs": [
    {
     "name": "stdout",
     "output_type": "stream",
     "text": [
      "0.001637284198118007\n",
      "0.8256500093449454\n"
     ]
    }
   ],
   "source": [
    "dt_cv_score=cross_val_score(estimator=dt,X=X,y=y,cv=5)\n",
    "print(dt_cv_score.var())\n",
    "print(dt_cv_score.mean())"
   ]
  },
  {
   "cell_type": "markdown",
   "metadata": {},
   "source": [
    "### Hyper Parameter Tuned Decision Tree"
   ]
  },
  {
   "cell_type": "code",
   "execution_count": 151,
   "metadata": {},
   "outputs": [
    {
     "data": {
      "text/plain": [
       "GridSearchCV(cv=5, error_score=nan,\n",
       "             estimator=DecisionTreeClassifier(ccp_alpha=0.0, class_weight=None,\n",
       "                                              criterion='gini', max_depth=None,\n",
       "                                              max_features=None,\n",
       "                                              max_leaf_nodes=None,\n",
       "                                              min_impurity_decrease=0.0,\n",
       "                                              min_impurity_split=None,\n",
       "                                              min_samples_leaf=1,\n",
       "                                              min_samples_split=2,\n",
       "                                              min_weight_fraction_leaf=0.0,\n",
       "                                              presort='deprecated',\n",
       "                                              random_state=17,\n",
       "                                              splitter='best'),\n",
       "             iid='deprecated', n_jobs=None,\n",
       "             param_grid={'criterion': ['gini', 'entropy'],\n",
       "                         'max_depth': range(2, 11)},\n",
       "             pre_dispatch='2*n_jobs', refit=True, return_train_score=False,\n",
       "             scoring=None, verbose=0)"
      ]
     },
     "execution_count": 151,
     "metadata": {},
     "output_type": "execute_result"
    }
   ],
   "source": [
    "tree_params = {'max_depth': range(2, 11),\n",
    "              'criterion' :['gini', 'entropy']}\n",
    "\n",
    "locally_best_tree = GridSearchCV(DecisionTreeClassifier(random_state=17),\n",
    "                                 tree_params, cv=5)                  \n",
    "\n",
    "locally_best_tree.fit(X_train, y_train)"
   ]
  },
  {
   "cell_type": "code",
   "execution_count": 152,
   "metadata": {},
   "outputs": [
    {
     "name": "stdout",
     "output_type": "stream",
     "text": [
      "Best params: {'criterion': 'gini', 'max_depth': 2}\n",
      "Best cross validaton score 0.9120552119745451\n"
     ]
    }
   ],
   "source": [
    "print(\"Best params:\", locally_best_tree.best_params_)\n",
    "print(\"Best cross validaton score\", locally_best_tree.best_score_)"
   ]
  },
  {
   "cell_type": "code",
   "execution_count": 60,
   "metadata": {},
   "outputs": [
    {
     "name": "stdout",
     "output_type": "stream",
     "text": [
      "              precision    recall  f1-score   support\n",
      "\n",
      "           0       1.00      0.81      0.89     12027\n",
      "           1       0.90      1.00      0.95     23957\n",
      "           2       0.86      0.84      0.85     11832\n",
      "\n",
      "    accuracy                           0.91     47816\n",
      "   macro avg       0.92      0.88      0.90     47816\n",
      "weighted avg       0.92      0.91      0.91     47816\n",
      "\n"
     ]
    }
   ],
   "source": [
    "dt = DecisionTreeClassifier(criterion='gini',max_depth=2,random_state=0)\n",
    "\n",
    "dt.fit(X_train,y_train)\n",
    "\n",
    "y_pred_dt = dt.predict(X_test)\n",
    "y_pred_dt_train = dt.predict(X_train)\n",
    "\n",
    "print(classification_report(y_test,y_pred_dt))"
   ]
  },
  {
   "cell_type": "code",
   "execution_count": 66,
   "metadata": {},
   "outputs": [
    {
     "name": "stdout",
     "output_type": "stream",
     "text": [
      "Testing Accuracy :- 0.9122469466287435\n",
      "Training Accuracy :- 0.9120552119745451\n"
     ]
    }
   ],
   "source": [
    "print(\"Testing Accuracy :-\" , accuracy_score(y_test,y_pred_dt))\n",
    "print(\"Training Accuracy :-\" ,accuracy_score(y_train,y_pred_dt_train))"
   ]
  },
  {
   "cell_type": "code",
   "execution_count": 62,
   "metadata": {},
   "outputs": [
    {
     "data": {
      "text/plain": [
       "<BarContainer object of 13 artists>"
      ]
     },
     "execution_count": 62,
     "metadata": {},
     "output_type": "execute_result"
    },
    {
     "data": {
      "image/png": "[encoded data removed]",
      "text/plain": [
       "<Figure size 432x288 with 1 Axes>"
      ]
     },
     "metadata": {
      "needs_background": "light"
     },
     "output_type": "display_data"
    }
   ],
   "source": [
    "plt.barh(list(X),list(dt.feature_importances_))"
   ]
  },
  {
   "cell_type": "code",
   "execution_count": 76,
   "metadata": {},
   "outputs": [
    {
     "name": "stdout",
     "output_type": "stream",
     "text": [
      "0.03723326057237626\n",
      "0.9119373652455293\n"
     ]
    }
   ],
   "source": [
    "#dt_cv_score=cross_val_score(estimator=dt,X=X,y=y,cv=5)\n",
    "print(dt_cv_score.std())\n",
    "print(dt_cv_score.mean())"
   ]
  },
  {
   "cell_type": "markdown",
   "metadata": {},
   "source": [
    "#### Random Forest Classifier"
   ]
  },
  {
   "cell_type": "code",
   "execution_count": 65,
   "metadata": {},
   "outputs": [
    {
     "name": "stdout",
     "output_type": "stream",
     "text": [
      "              precision    recall  f1-score   support\n",
      "\n",
      "           0       0.93      0.83      0.88     12027\n",
      "           1       0.91      0.97      0.94     23957\n",
      "           2       0.83      0.81      0.82     11832\n",
      "\n",
      "    accuracy                           0.90     47816\n",
      "   macro avg       0.89      0.87      0.88     47816\n",
      "weighted avg       0.90      0.90      0.89     47816\n",
      "\n"
     ]
    }
   ],
   "source": [
    "rf = RandomForestClassifier()\n",
    "\n",
    "rf.fit(X_train,y_train)\n",
    "\n",
    "y_pred_rf = rf.predict(X_test)\n",
    "y_pred_rf_train = rf.predict(X_train)\n",
    "print(classification_report(y_test,y_pred_rf))"
   ]
  },
  {
   "cell_type": "code",
   "execution_count": 67,
   "metadata": {},
   "outputs": [
    {
     "name": "stdout",
     "output_type": "stream",
     "text": [
      "Testing Accuracy :- 0.8953279237075455\n",
      "Training Accuracy :- 0.9998745182396701\n"
     ]
    }
   ],
   "source": [
    "print(\"Testing Accuracy :-\" , accuracy_score(y_test,y_pred_rf))\n",
    "print(\"Training Accuracy :-\" ,accuracy_score(y_train,y_pred_rf_train))"
   ]
  },
  {
   "cell_type": "code",
   "execution_count": 123,
   "metadata": {},
   "outputs": [
    {
     "data": {
      "text/plain": [
       "{'max_depth': 10, 'criterion': 'gini'}"
      ]
     },
     "execution_count": 123,
     "metadata": {},
     "output_type": "execute_result"
    }
   ],
   "source": [
    "rfc = RandomForestClassifier(random_state=2)\n",
    "param_grid = { \n",
    "'max_depth' : range(2,11),\n",
    "'criterion' :['gini', 'entropy']\n",
    "    \n",
    "}\n",
    "rs_model = RandomizedSearchCV(rfc, param_distributions=param_grid)\n",
    "rs_model.fit(X_train, y_train)\n",
    "\n",
    "rs_model.best_params_"
   ]
  },
  {
   "cell_type": "code",
   "execution_count": 68,
   "metadata": {},
   "outputs": [],
   "source": [
    "rfc=RandomForestClassifier(criterion='gini',max_depth=10,random_state=0)"
   ]
  },
  {
   "cell_type": "code",
   "execution_count": 69,
   "metadata": {},
   "outputs": [
    {
     "data": {
      "text/plain": [
       "RandomForestClassifier(bootstrap=True, ccp_alpha=0.0, class_weight=None,\n",
       "                       criterion='gini', max_depth=10, max_features='auto',\n",
       "                       max_leaf_nodes=None, max_samples=None,\n",
       "                       min_impurity_decrease=0.0, min_impurity_split=None,\n",
       "                       min_samples_leaf=1, min_samples_split=2,\n",
       "                       min_weight_fraction_leaf=0.0, n_estimators=100,\n",
       "                       n_jobs=None, oob_score=False, random_state=0, verbose=0,\n",
       "                       warm_start=False)"
      ]
     },
     "execution_count": 69,
     "metadata": {},
     "output_type": "execute_result"
    }
   ],
   "source": [
    "rfc.fit(X_train,y_train)"
   ]
  },
  {
   "cell_type": "code",
   "execution_count": 70,
   "metadata": {},
   "outputs": [
    {
     "name": "stdout",
     "output_type": "stream",
     "text": [
      "              precision    recall  f1-score   support\n",
      "\n",
      "           0       1.00      0.81      0.89     12027\n",
      "           1       0.90      1.00      0.95     23957\n",
      "           2       0.86      0.84      0.85     11832\n",
      "\n",
      "    accuracy                           0.91     47816\n",
      "   macro avg       0.92      0.88      0.90     47816\n",
      "weighted avg       0.92      0.91      0.91     47816\n",
      "\n"
     ]
    }
   ],
   "source": [
    "y_pred_rfc=rfc.predict(X_test)\n",
    "print(classification_report(y_test,y_pred_rfc))"
   ]
  },
  {
   "cell_type": "code",
   "execution_count": 71,
   "metadata": {},
   "outputs": [
    {
     "data": {
      "text/plain": [
       "0.9121842061234733"
      ]
     },
     "execution_count": 71,
     "metadata": {},
     "output_type": "execute_result"
    }
   ],
   "source": [
    "accuracy_score(y_test,y_pred_rfc)"
   ]
  },
  {
   "cell_type": "code",
   "execution_count": 72,
   "metadata": {},
   "outputs": [
    {
     "data": {
      "text/plain": [
       "<BarContainer object of 13 artists>"
      ]
     },
     "execution_count": 72,
     "metadata": {},
     "output_type": "execute_result"
    },
    {
     "data": {
      "image/png": "[encoded data removed]",
      "text/plain": [
       "<Figure size 432x288 with 1 Axes>"
      ]
     },
     "metadata": {
      "needs_background": "light"
     },
     "output_type": "display_data"
    }
   ],
   "source": [
    "plt.barh(list(X),list(rfc.feature_importances_))"
   ]
  },
  {
   "cell_type": "code",
   "execution_count": 73,
   "metadata": {},
   "outputs": [],
   "source": [
    "score=cross_val_score(estimator=rfc,X=X,y=y,cv=5)"
   ]
  },
  {
   "cell_type": "code",
   "execution_count": 74,
   "metadata": {},
   "outputs": [
    {
     "data": {
      "text/plain": [
       "0.9119185428971276"
      ]
     },
     "execution_count": 74,
     "metadata": {},
     "output_type": "execute_result"
    }
   ],
   "source": [
    "score.mean()"
   ]
  },
  {
   "cell_type": "code",
   "execution_count": 75,
   "metadata": {},
   "outputs": [
    {
     "data": {
      "text/plain": [
       "0.03722808016501287"
      ]
     },
     "execution_count": 75,
     "metadata": {},
     "output_type": "execute_result"
    }
   ],
   "source": [
    "score.std()"
   ]
  },
  {
   "cell_type": "markdown",
   "metadata": {},
   "source": [
    "#### XGB Classifier"
   ]
  },
  {
   "cell_type": "code",
   "execution_count": 77,
   "metadata": {},
   "outputs": [
    {
     "data": {
      "text/plain": [
       "XGBClassifier(base_score=0.5, booster='gbtree', colsample_bylevel=1,\n",
       "              colsample_bynode=1, colsample_bytree=1, gamma=0,\n",
       "              learning_rate=0.1, max_delta_step=0, max_depth=3,\n",
       "              min_child_weight=1, missing=None, n_estimators=100, n_jobs=1,\n",
       "              nthread=None, objective='multi:softprob', random_state=0,\n",
       "              reg_alpha=0, reg_lambda=1, scale_pos_weight=1, seed=None,\n",
       "              silent=None, subsample=1, verbosity=1)"
      ]
     },
     "execution_count": 77,
     "metadata": {},
     "output_type": "execute_result"
    }
   ],
   "source": [
    "xgb=XGBClassifier()\n",
    "xgb.fit(X_train,y_train)"
   ]
  },
  {
   "cell_type": "code",
   "execution_count": 78,
   "metadata": {},
   "outputs": [],
   "source": [
    "y_pred_xgb = xgb.predict(X_test)"
   ]
  },
  {
   "cell_type": "code",
   "execution_count": 79,
   "metadata": {},
   "outputs": [
    {
     "name": "stdout",
     "output_type": "stream",
     "text": [
      "              precision    recall  f1-score   support\n",
      "\n",
      "           0       1.00      0.81      0.89     12027\n",
      "           1       0.90      1.00      0.95     23957\n",
      "           2       0.86      0.84      0.85     11832\n",
      "\n",
      "    accuracy                           0.91     47816\n",
      "   macro avg       0.92      0.88      0.90     47816\n",
      "weighted avg       0.92      0.91      0.91     47816\n",
      "\n"
     ]
    }
   ],
   "source": [
    "print(classification_report(y_test,y_pred_xgb))"
   ]
  },
  {
   "cell_type": "code",
   "execution_count": 80,
   "metadata": {},
   "outputs": [
    {
     "data": {
      "text/plain": [
       "0.9122051196252301"
      ]
     },
     "execution_count": 80,
     "metadata": {},
     "output_type": "execute_result"
    }
   ],
   "source": [
    "accuracy_score(y_test,y_pred_xgb)"
   ]
  },
  {
   "cell_type": "code",
   "execution_count": 81,
   "metadata": {},
   "outputs": [],
   "source": [
    "xgb_cross_score=cross_val_score(estimator=xgb,X=X,y=y,cv=5)"
   ]
  },
  {
   "cell_type": "code",
   "execution_count": 82,
   "metadata": {},
   "outputs": [
    {
     "data": {
      "text/plain": [
       "0.911912268780994"
      ]
     },
     "execution_count": 82,
     "metadata": {},
     "output_type": "execute_result"
    }
   ],
   "source": [
    "xgb_cross_score.mean() "
   ]
  },
  {
   "cell_type": "code",
   "execution_count": 83,
   "metadata": {},
   "outputs": [
    {
     "data": {
      "text/plain": [
       "0.03720792420620373"
      ]
     },
     "execution_count": 83,
     "metadata": {},
     "output_type": "execute_result"
    }
   ],
   "source": [
    "xgb_cross_score.std()"
   ]
  },
  {
   "cell_type": "code",
   "execution_count": null,
   "metadata": {},
   "outputs": [],
   "source": []
  }
 ],
 "metadata": {
  "kernelspec": {
   "display_name": "Python 3",
   "language": "python",
   "name": "python3"
  },
  "language_info": {
   "codemirror_mode": {
    "name": "ipython",
    "version": 3
   },
   "file_extension": ".py",
   "mimetype": "text/x-python",
   "name": "python",
   "nbconvert_exporter": "python",
   "pygments_lexer": "ipython3",
   "version": "3.7.4"
  }
 },
 "nbformat": 4,
 "nbformat_minor": 2
}
