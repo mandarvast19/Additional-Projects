{
 "cells": [
  {
   "cell_type": "code",
   "execution_count": 1,
   "id": "humanitarian-powell",
   "metadata": {},
   "outputs": [
    {
     "data": {
      "text/html": [
       "<div>\n",
       "<style scoped>\n",
       "    .dataframe tbody tr th:only-of-type {\n",
       "        vertical-align: middle;\n",
       "    }\n",
       "\n",
       "    .dataframe tbody tr th {\n",
       "        vertical-align: top;\n",
       "    }\n",
       "\n",
       "    .dataframe thead th {\n",
       "        text-align: right;\n",
       "    }\n",
       "</style>\n",
       "<table border=\"1\" class=\"dataframe\">\n",
       "  <thead>\n",
       "    <tr style=\"text-align: right;\">\n",
       "      <th></th>\n",
       "      <th>item_id</th>\n",
       "      <th>waist</th>\n",
       "      <th>size</th>\n",
       "      <th>quality</th>\n",
       "      <th>cup size</th>\n",
       "      <th>hips</th>\n",
       "      <th>bra size</th>\n",
       "      <th>category</th>\n",
       "      <th>bust</th>\n",
       "      <th>height</th>\n",
       "      <th>user_name</th>\n",
       "      <th>length</th>\n",
       "      <th>fit</th>\n",
       "      <th>user_id</th>\n",
       "      <th>shoe size</th>\n",
       "      <th>shoe width</th>\n",
       "      <th>review_summary</th>\n",
       "      <th>review_text</th>\n",
       "    </tr>\n",
       "  </thead>\n",
       "  <tbody>\n",
       "    <tr>\n",
       "      <th>0</th>\n",
       "      <td>123373</td>\n",
       "      <td>29.0</td>\n",
       "      <td>7</td>\n",
       "      <td>5.0</td>\n",
       "      <td>d</td>\n",
       "      <td>38.0</td>\n",
       "      <td>34.0</td>\n",
       "      <td>new</td>\n",
       "      <td>36</td>\n",
       "      <td>5ft 6in</td>\n",
       "      <td>Emily</td>\n",
       "      <td>just right</td>\n",
       "      <td>small</td>\n",
       "      <td>991571</td>\n",
       "      <td>NaN</td>\n",
       "      <td>NaN</td>\n",
       "      <td>NaN</td>\n",
       "      <td>NaN</td>\n",
       "    </tr>\n",
       "    <tr>\n",
       "      <th>1</th>\n",
       "      <td>123373</td>\n",
       "      <td>31.0</td>\n",
       "      <td>13</td>\n",
       "      <td>3.0</td>\n",
       "      <td>b</td>\n",
       "      <td>30.0</td>\n",
       "      <td>36.0</td>\n",
       "      <td>new</td>\n",
       "      <td>NaN</td>\n",
       "      <td>5ft 2in</td>\n",
       "      <td>sydneybraden2001</td>\n",
       "      <td>just right</td>\n",
       "      <td>small</td>\n",
       "      <td>587883</td>\n",
       "      <td>NaN</td>\n",
       "      <td>NaN</td>\n",
       "      <td>NaN</td>\n",
       "      <td>NaN</td>\n",
       "    </tr>\n",
       "    <tr>\n",
       "      <th>2</th>\n",
       "      <td>123373</td>\n",
       "      <td>30.0</td>\n",
       "      <td>7</td>\n",
       "      <td>2.0</td>\n",
       "      <td>b</td>\n",
       "      <td>NaN</td>\n",
       "      <td>32.0</td>\n",
       "      <td>new</td>\n",
       "      <td>NaN</td>\n",
       "      <td>5ft 7in</td>\n",
       "      <td>Ugggh</td>\n",
       "      <td>slightly long</td>\n",
       "      <td>small</td>\n",
       "      <td>395665</td>\n",
       "      <td>9.0</td>\n",
       "      <td>NaN</td>\n",
       "      <td>NaN</td>\n",
       "      <td>NaN</td>\n",
       "    </tr>\n",
       "    <tr>\n",
       "      <th>3</th>\n",
       "      <td>123373</td>\n",
       "      <td>NaN</td>\n",
       "      <td>21</td>\n",
       "      <td>5.0</td>\n",
       "      <td>dd/e</td>\n",
       "      <td>NaN</td>\n",
       "      <td>NaN</td>\n",
       "      <td>new</td>\n",
       "      <td>NaN</td>\n",
       "      <td>NaN</td>\n",
       "      <td>alexmeyer626</td>\n",
       "      <td>just right</td>\n",
       "      <td>fit</td>\n",
       "      <td>875643</td>\n",
       "      <td>NaN</td>\n",
       "      <td>NaN</td>\n",
       "      <td>NaN</td>\n",
       "      <td>NaN</td>\n",
       "    </tr>\n",
       "    <tr>\n",
       "      <th>4</th>\n",
       "      <td>123373</td>\n",
       "      <td>NaN</td>\n",
       "      <td>18</td>\n",
       "      <td>5.0</td>\n",
       "      <td>b</td>\n",
       "      <td>NaN</td>\n",
       "      <td>36.0</td>\n",
       "      <td>new</td>\n",
       "      <td>NaN</td>\n",
       "      <td>5ft 2in</td>\n",
       "      <td>dberrones1</td>\n",
       "      <td>slightly long</td>\n",
       "      <td>small</td>\n",
       "      <td>944840</td>\n",
       "      <td>NaN</td>\n",
       "      <td>NaN</td>\n",
       "      <td>NaN</td>\n",
       "      <td>NaN</td>\n",
       "    </tr>\n",
       "  </tbody>\n",
       "</table>\n",
       "</div>"
      ],
      "text/plain": [
       "   item_id  waist  size  quality cup size  hips  bra size category bust  \\\n",
       "0   123373   29.0     7      5.0        d  38.0      34.0      new   36   \n",
       "1   123373   31.0    13      3.0        b  30.0      36.0      new  NaN   \n",
       "2   123373   30.0     7      2.0        b   NaN      32.0      new  NaN   \n",
       "3   123373    NaN    21      5.0     dd/e   NaN       NaN      new  NaN   \n",
       "4   123373    NaN    18      5.0        b   NaN      36.0      new  NaN   \n",
       "\n",
       "    height         user_name         length    fit  user_id  shoe size  \\\n",
       "0  5ft 6in             Emily     just right  small   991571        NaN   \n",
       "1  5ft 2in  sydneybraden2001     just right  small   587883        NaN   \n",
       "2  5ft 7in             Ugggh  slightly long  small   395665        9.0   \n",
       "3      NaN      alexmeyer626     just right    fit   875643        NaN   \n",
       "4  5ft 2in        dberrones1  slightly long  small   944840        NaN   \n",
       "\n",
       "  shoe width review_summary review_text  \n",
       "0        NaN            NaN         NaN  \n",
       "1        NaN            NaN         NaN  \n",
       "2        NaN            NaN         NaN  \n",
       "3        NaN            NaN         NaN  \n",
       "4        NaN            NaN         NaN  "
      ]
     },
     "execution_count": 1,
     "metadata": {},
     "output_type": "execute_result"
    }
   ],
   "source": [
    "import numpy as np\n",
    "import pandas as pd\n",
    "import matplotlib.pyplot as plt\n",
    "import seaborn as sns\n",
    "from sklearn.model_selection import train_test_split\n",
    "import warnings\n",
    "warnings.filterwarnings('ignore')\n",
    "\n",
    "df = pd.read_json(\"data/modelling_customerfeedback.json\",lines=True)\n",
    "df.head()"
   ]
  },
  {
   "cell_type": "code",
   "execution_count": 2,
   "id": "removed-bullet",
   "metadata": {},
   "outputs": [
    {
     "data": {
      "text/plain": [
       "item_id               0\n",
       "waist             79908\n",
       "size                  0\n",
       "quality              68\n",
       "cup size           6255\n",
       "hips              26726\n",
       "bra size           6018\n",
       "category              0\n",
       "bust              70936\n",
       "height             1107\n",
       "user_name             0\n",
       "length               35\n",
       "fit                   0\n",
       "user_id               0\n",
       "shoe size         54875\n",
       "shoe width        64183\n",
       "review_summary     6725\n",
       "review_text        6725\n",
       "dtype: int64"
      ]
     },
     "execution_count": 2,
     "metadata": {},
     "output_type": "execute_result"
    }
   ],
   "source": [
    "missing_data = df.isna().sum()\n",
    "missing_data"
   ]
  },
  {
   "cell_type": "code",
   "execution_count": 3,
   "id": "social-mother",
   "metadata": {},
   "outputs": [
    {
     "data": {
      "text/plain": [
       "item_id            0.000000\n",
       "waist             96.518903\n",
       "size               0.000000\n",
       "quality            0.082136\n",
       "cup size           7.555260\n",
       "hips              32.281677\n",
       "bra size           7.268994\n",
       "category           0.000000\n",
       "bust              85.681846\n",
       "height             1.337118\n",
       "user_name          0.000000\n",
       "length             0.042276\n",
       "fit                0.000000\n",
       "user_id            0.000000\n",
       "shoe size         66.282160\n",
       "shoe width        77.525063\n",
       "review_summary     8.122962\n",
       "review_text        8.122962\n",
       "dtype: float64"
      ]
     },
     "execution_count": 3,
     "metadata": {},
     "output_type": "execute_result"
    }
   ],
   "source": [
    "missing_data*100/len(df)"
   ]
  },
  {
   "cell_type": "code",
   "execution_count": 4,
   "id": "lucky-paris",
   "metadata": {},
   "outputs": [],
   "source": [
    "df.drop(['waist','bust','user_name','review_text','review_summary','shoe size','shoe width'],axis=1,inplace=True)\n",
    "\n",
    "X = df.drop('fit',axis=1)\n",
    "y = df['fit']\n",
    "X_train,X_test,y_train,y_test = train_test_split(X,y,test_size=0.33,random_state=6)"
   ]
  },
  {
   "cell_type": "code",
   "execution_count": 5,
   "id": "global-caribbean",
   "metadata": {},
   "outputs": [
    {
     "data": {
      "image/png": "[encoded data removed]",
      "text/plain": [
       "<Figure size 1728x864 with 1 Axes>"
      ]
     },
     "metadata": {
      "needs_background": "light"
     },
     "output_type": "display_data"
    }
   ],
   "source": [
    "def plot_barh(df,col, cmap = None, stacked=False, norm = None):\n",
    "    df.plot(kind='barh', colormap=cmap, stacked=stacked)\n",
    "    fig = plt.gcf()\n",
    "    fig.set_size_inches(24,12)\n",
    "    plt.title(\"Category vs {}-feedback -  cloth {}\".format(col, '(Normalized)' if norm else ''), fontsize= 20)\n",
    "    plt.ylabel('Category', fontsize = 18)\n",
    "    plot = plt.xlabel('Frequency', fontsize=18)\n",
    "\n",
    "\n",
    "\n",
    "g_by_category = df.groupby('category')\n",
    "cat_fit = g_by_category['fit'].value_counts()\n",
    "cat_fit = cat_fit.unstack()\n",
    "plot_barh(cat_fit, 'fit')"
   ]
  },
  {
   "cell_type": "markdown",
   "id": "spread-produce",
   "metadata": {},
   "source": [
    "#### Category vs Length"
   ]
  },
  {
   "cell_type": "code",
   "execution_count": 6,
   "id": "middle-repository",
   "metadata": {},
   "outputs": [
    {
     "data": {
      "image/png": "[encoded data removed]",
      "text/plain": [
       "<Figure size 1728x864 with 1 Axes>"
      ]
     },
     "metadata": {
      "needs_background": "light"
     },
     "output_type": "display_data"
    }
   ],
   "source": [
    "cat_len = g_by_category['length'].value_counts()\n",
    "cat_len.unstack()\n",
    "plot_barh(cat_len,'length')"
   ]
  },
  {
   "cell_type": "markdown",
   "id": "hindu-bennett",
   "metadata": {},
   "source": [
    "#### Cleaning height columns"
   ]
  },
  {
   "cell_type": "code",
   "execution_count": 7,
   "id": "editorial-amber",
   "metadata": {},
   "outputs": [
    {
     "data": {
      "text/html": [
       "<div>\n",
       "<style scoped>\n",
       "    .dataframe tbody tr th:only-of-type {\n",
       "        vertical-align: middle;\n",
       "    }\n",
       "\n",
       "    .dataframe tbody tr th {\n",
       "        vertical-align: top;\n",
       "    }\n",
       "\n",
       "    .dataframe thead th {\n",
       "        text-align: right;\n",
       "    }\n",
       "</style>\n",
       "<table border=\"1\" class=\"dataframe\">\n",
       "  <thead>\n",
       "    <tr style=\"text-align: right;\">\n",
       "      <th></th>\n",
       "      <th>item_id</th>\n",
       "      <th>size</th>\n",
       "      <th>quality</th>\n",
       "      <th>cup size</th>\n",
       "      <th>hips</th>\n",
       "      <th>bra size</th>\n",
       "      <th>category</th>\n",
       "      <th>height</th>\n",
       "      <th>length</th>\n",
       "      <th>user_id</th>\n",
       "    </tr>\n",
       "  </thead>\n",
       "  <tbody>\n",
       "    <tr>\n",
       "      <th>8540</th>\n",
       "      <td>160625</td>\n",
       "      <td>3</td>\n",
       "      <td>5.0</td>\n",
       "      <td>b</td>\n",
       "      <td>38.0</td>\n",
       "      <td>32.0</td>\n",
       "      <td>dresses</td>\n",
       "      <td>172.72</td>\n",
       "      <td>slightly long</td>\n",
       "      <td>276443</td>\n",
       "    </tr>\n",
       "    <tr>\n",
       "      <th>30834</th>\n",
       "      <td>407044</td>\n",
       "      <td>8</td>\n",
       "      <td>2.0</td>\n",
       "      <td>b</td>\n",
       "      <td>35.0</td>\n",
       "      <td>34.0</td>\n",
       "      <td>new</td>\n",
       "      <td>165.10</td>\n",
       "      <td>just right</td>\n",
       "      <td>980141</td>\n",
       "    </tr>\n",
       "    <tr>\n",
       "      <th>6095</th>\n",
       "      <td>152513</td>\n",
       "      <td>15</td>\n",
       "      <td>2.0</td>\n",
       "      <td>d</td>\n",
       "      <td>45.0</td>\n",
       "      <td>36.0</td>\n",
       "      <td>new</td>\n",
       "      <td>170.18</td>\n",
       "      <td>just right</td>\n",
       "      <td>682176</td>\n",
       "    </tr>\n",
       "    <tr>\n",
       "      <th>14462</th>\n",
       "      <td>171740</td>\n",
       "      <td>7</td>\n",
       "      <td>4.0</td>\n",
       "      <td>d</td>\n",
       "      <td>37.0</td>\n",
       "      <td>32.0</td>\n",
       "      <td>dresses</td>\n",
       "      <td>152.40</td>\n",
       "      <td>just right</td>\n",
       "      <td>459825</td>\n",
       "    </tr>\n",
       "    <tr>\n",
       "      <th>37896</th>\n",
       "      <td>416942</td>\n",
       "      <td>26</td>\n",
       "      <td>4.0</td>\n",
       "      <td>c</td>\n",
       "      <td>NaN</td>\n",
       "      <td>42.0</td>\n",
       "      <td>new</td>\n",
       "      <td>165.10</td>\n",
       "      <td>just right</td>\n",
       "      <td>151852</td>\n",
       "    </tr>\n",
       "  </tbody>\n",
       "</table>\n",
       "</div>"
      ],
      "text/plain": [
       "       item_id  size  quality cup size  hips  bra size category  height  \\\n",
       "8540    160625     3      5.0        b  38.0      32.0  dresses  172.72   \n",
       "30834   407044     8      2.0        b  35.0      34.0      new  165.10   \n",
       "6095    152513    15      2.0        d  45.0      36.0      new  170.18   \n",
       "14462   171740     7      4.0        d  37.0      32.0  dresses  152.40   \n",
       "37896   416942    26      4.0        c   NaN      42.0      new  165.10   \n",
       "\n",
       "              length  user_id  \n",
       "8540   slightly long   276443  \n",
       "30834     just right   980141  \n",
       "6095      just right   682176  \n",
       "14462     just right   459825  \n",
       "37896     just right   151852  "
      ]
     },
     "execution_count": 7,
     "metadata": {},
     "output_type": "execute_result"
    }
   ],
   "source": [
    "def get_cms(x):\n",
    "    if type(x) == type(1.0):\n",
    "        return\n",
    "\n",
    "    try: \n",
    "        return (int(x[0])*30.48) + (int(x[4:-2])*2.54)\n",
    "    except:\n",
    "        return (int(x[0])*30.48)\n",
    "X_train['height'] = X_train['height'].apply(get_cms)\n",
    "X_test['height'] = X_test['height'].apply(get_cms)\n",
    "X_train.head()"
   ]
  },
  {
   "cell_type": "code",
   "execution_count": 8,
   "id": "automatic-graph",
   "metadata": {},
   "outputs": [
    {
     "data": {
      "text/plain": [
       "item_id         0\n",
       "size            0\n",
       "quality        44\n",
       "cup size     4150\n",
       "hips        17878\n",
       "bra size     3986\n",
       "category        0\n",
       "height        728\n",
       "length         26\n",
       "user_id         0\n",
       "dtype: int64"
      ]
     },
     "execution_count": 8,
     "metadata": {},
     "output_type": "execute_result"
    }
   ],
   "source": [
    "X_train.isna().sum()"
   ]
  },
  {
   "cell_type": "markdown",
   "id": "federal-legislature",
   "metadata": {},
   "source": [
    "##### Dropped rows of columns which had low no of null values. \n",
    "##### Replaced null values with mean and mode for other columns."
   ]
  },
  {
   "cell_type": "code",
   "execution_count": 9,
   "id": "surprising-beauty",
   "metadata": {},
   "outputs": [
    {
     "name": "stdout",
     "output_type": "stream",
     "text": [
      "item_id     0\n",
      "size        0\n",
      "quality     0\n",
      "cup size    0\n",
      "hips        0\n",
      "bra size    0\n",
      "category    0\n",
      "height      0\n",
      "length      0\n",
      "user_id     0\n",
      "dtype: int64\n"
     ]
    }
   ],
   "source": [
    "X_train.isna().sum()\n",
    "X_train.dropna(subset=['height','length','quality'],inplace=True)\n",
    "X_test.dropna(subset=['height','length','quality'],inplace=True)\n",
    "y_train = y_train[X_train.index]\n",
    "y_test = y_test[X_test.index]\n",
    "\n",
    "X_train['bra size'].fillna((X_train['bra size'].mean()), inplace=True)\n",
    "X_test['bra size'].fillna((X_test['bra size'].mean()), inplace=True)\n",
    "\n",
    "X_train['hips'].fillna((X_train['hips'].mean()), inplace=True)\n",
    "X_test['hips'].fillna((X_test['hips'].mean()), inplace=True)\n",
    "\n",
    "mode_1 = X_train['cup size'].mode()[0]\n",
    "mode_2 = X_test['cup size'].mode()[0]\n",
    "X_train['cup size']=X_train['cup size'].replace(np.nan,mode_1)\n",
    "X_test['cup size']=X_test['cup size'].replace(np.nan,mode_2)\n",
    "\n",
    "print(X_train.isnull().sum())"
   ]
  },
  {
   "cell_type": "code",
   "execution_count": 10,
   "id": "coupled-procurement",
   "metadata": {},
   "outputs": [
    {
     "data": {
      "text/html": [
       "<div>\n",
       "<style scoped>\n",
       "    .dataframe tbody tr th:only-of-type {\n",
       "        vertical-align: middle;\n",
       "    }\n",
       "\n",
       "    .dataframe tbody tr th {\n",
       "        vertical-align: top;\n",
       "    }\n",
       "\n",
       "    .dataframe thead th {\n",
       "        text-align: right;\n",
       "    }\n",
       "</style>\n",
       "<table border=\"1\" class=\"dataframe\">\n",
       "  <thead>\n",
       "    <tr style=\"text-align: right;\">\n",
       "      <th></th>\n",
       "      <th>item_id</th>\n",
       "      <th>size</th>\n",
       "      <th>quality</th>\n",
       "      <th>hips</th>\n",
       "      <th>bra size</th>\n",
       "      <th>height</th>\n",
       "      <th>user_id</th>\n",
       "      <th>category_bottoms</th>\n",
       "      <th>category_dresses</th>\n",
       "      <th>category_new</th>\n",
       "      <th>...</th>\n",
       "      <th>cup size_dddd/g</th>\n",
       "      <th>cup size_h</th>\n",
       "      <th>cup size_i</th>\n",
       "      <th>cup size_j</th>\n",
       "      <th>cup size_k</th>\n",
       "      <th>length_just right</th>\n",
       "      <th>length_slightly long</th>\n",
       "      <th>length_slightly short</th>\n",
       "      <th>length_very long</th>\n",
       "      <th>length_very short</th>\n",
       "    </tr>\n",
       "  </thead>\n",
       "  <tbody>\n",
       "    <tr>\n",
       "      <th>8540</th>\n",
       "      <td>160625</td>\n",
       "      <td>3</td>\n",
       "      <td>5.0</td>\n",
       "      <td>38.000000</td>\n",
       "      <td>32.0</td>\n",
       "      <td>172.72</td>\n",
       "      <td>276443</td>\n",
       "      <td>0</td>\n",
       "      <td>1</td>\n",
       "      <td>0</td>\n",
       "      <td>...</td>\n",
       "      <td>0</td>\n",
       "      <td>0</td>\n",
       "      <td>0</td>\n",
       "      <td>0</td>\n",
       "      <td>0</td>\n",
       "      <td>0</td>\n",
       "      <td>1</td>\n",
       "      <td>0</td>\n",
       "      <td>0</td>\n",
       "      <td>0</td>\n",
       "    </tr>\n",
       "    <tr>\n",
       "      <th>30834</th>\n",
       "      <td>407044</td>\n",
       "      <td>8</td>\n",
       "      <td>2.0</td>\n",
       "      <td>35.000000</td>\n",
       "      <td>34.0</td>\n",
       "      <td>165.10</td>\n",
       "      <td>980141</td>\n",
       "      <td>0</td>\n",
       "      <td>0</td>\n",
       "      <td>1</td>\n",
       "      <td>...</td>\n",
       "      <td>0</td>\n",
       "      <td>0</td>\n",
       "      <td>0</td>\n",
       "      <td>0</td>\n",
       "      <td>0</td>\n",
       "      <td>1</td>\n",
       "      <td>0</td>\n",
       "      <td>0</td>\n",
       "      <td>0</td>\n",
       "      <td>0</td>\n",
       "    </tr>\n",
       "    <tr>\n",
       "      <th>6095</th>\n",
       "      <td>152513</td>\n",
       "      <td>15</td>\n",
       "      <td>2.0</td>\n",
       "      <td>45.000000</td>\n",
       "      <td>36.0</td>\n",
       "      <td>170.18</td>\n",
       "      <td>682176</td>\n",
       "      <td>0</td>\n",
       "      <td>0</td>\n",
       "      <td>1</td>\n",
       "      <td>...</td>\n",
       "      <td>0</td>\n",
       "      <td>0</td>\n",
       "      <td>0</td>\n",
       "      <td>0</td>\n",
       "      <td>0</td>\n",
       "      <td>1</td>\n",
       "      <td>0</td>\n",
       "      <td>0</td>\n",
       "      <td>0</td>\n",
       "      <td>0</td>\n",
       "    </tr>\n",
       "    <tr>\n",
       "      <th>14462</th>\n",
       "      <td>171740</td>\n",
       "      <td>7</td>\n",
       "      <td>4.0</td>\n",
       "      <td>37.000000</td>\n",
       "      <td>32.0</td>\n",
       "      <td>152.40</td>\n",
       "      <td>459825</td>\n",
       "      <td>0</td>\n",
       "      <td>1</td>\n",
       "      <td>0</td>\n",
       "      <td>...</td>\n",
       "      <td>0</td>\n",
       "      <td>0</td>\n",
       "      <td>0</td>\n",
       "      <td>0</td>\n",
       "      <td>0</td>\n",
       "      <td>1</td>\n",
       "      <td>0</td>\n",
       "      <td>0</td>\n",
       "      <td>0</td>\n",
       "      <td>0</td>\n",
       "    </tr>\n",
       "    <tr>\n",
       "      <th>37896</th>\n",
       "      <td>416942</td>\n",
       "      <td>26</td>\n",
       "      <td>4.0</td>\n",
       "      <td>40.364358</td>\n",
       "      <td>42.0</td>\n",
       "      <td>165.10</td>\n",
       "      <td>151852</td>\n",
       "      <td>0</td>\n",
       "      <td>0</td>\n",
       "      <td>1</td>\n",
       "      <td>...</td>\n",
       "      <td>0</td>\n",
       "      <td>0</td>\n",
       "      <td>0</td>\n",
       "      <td>0</td>\n",
       "      <td>0</td>\n",
       "      <td>1</td>\n",
       "      <td>0</td>\n",
       "      <td>0</td>\n",
       "      <td>0</td>\n",
       "      <td>0</td>\n",
       "    </tr>\n",
       "  </tbody>\n",
       "</table>\n",
       "<p>5 rows × 31 columns</p>\n",
       "</div>"
      ],
      "text/plain": [
       "       item_id  size  quality       hips  bra size  height  user_id  \\\n",
       "8540    160625     3      5.0  38.000000      32.0  172.72   276443   \n",
       "30834   407044     8      2.0  35.000000      34.0  165.10   980141   \n",
       "6095    152513    15      2.0  45.000000      36.0  170.18   682176   \n",
       "14462   171740     7      4.0  37.000000      32.0  152.40   459825   \n",
       "37896   416942    26      4.0  40.364358      42.0  165.10   151852   \n",
       "\n",
       "       category_bottoms  category_dresses  category_new  ...  cup size_dddd/g  \\\n",
       "8540                  0                 1             0  ...                0   \n",
       "30834                 0                 0             1  ...                0   \n",
       "6095                  0                 0             1  ...                0   \n",
       "14462                 0                 1             0  ...                0   \n",
       "37896                 0                 0             1  ...                0   \n",
       "\n",
       "       cup size_h  cup size_i  cup size_j  cup size_k  length_just right  \\\n",
       "8540            0           0           0           0                  0   \n",
       "30834           0           0           0           0                  1   \n",
       "6095            0           0           0           0                  1   \n",
       "14462           0           0           0           0                  1   \n",
       "37896           0           0           0           0                  1   \n",
       "\n",
       "       length_slightly long  length_slightly short  length_very long  \\\n",
       "8540                      1                      0                 0   \n",
       "30834                     0                      0                 0   \n",
       "6095                      0                      0                 0   \n",
       "14462                     0                      0                 0   \n",
       "37896                     0                      0                 0   \n",
       "\n",
       "       length_very short  \n",
       "8540                   0  \n",
       "30834                  0  \n",
       "6095                   0  \n",
       "14462                  0  \n",
       "37896                  0  \n",
       "\n",
       "[5 rows x 31 columns]"
      ]
     },
     "execution_count": 10,
     "metadata": {},
     "output_type": "execute_result"
    }
   ],
   "source": [
    "X_train = pd.get_dummies(X_train,columns=['category','cup size','length'])\n",
    "X_test = pd.get_dummies(X_test,columns=['category','cup size','length'])\n",
    "\n",
    "X_train.head()"
   ]
  },
  {
   "cell_type": "code",
   "execution_count": 11,
   "id": "hairy-decision",
   "metadata": {},
   "outputs": [
    {
     "name": "stdout",
     "output_type": "stream",
     "text": [
      "0.6848734812172556\n"
     ]
    }
   ],
   "source": [
    "from sklearn.linear_model import LogisticRegression\n",
    "from sklearn.metrics import precision_score\n",
    "from sklearn.metrics import accuracy_score\n",
    "\n",
    "log_reg = LogisticRegression(random_state=6)\n",
    "log_reg.fit(X_train,y_train)\n",
    "y_pred = log_reg.predict(X_test)\n",
    "accuracy = accuracy_score(y_test,y_pred)\n",
    "print(accuracy)\n"
   ]
  },
  {
   "cell_type": "code",
   "execution_count": 12,
   "id": "liquid-cartoon",
   "metadata": {},
   "outputs": [
    {
     "name": "stdout",
     "output_type": "stream",
     "text": [
      "0.5770073941961134 \n",
      " [0.72880125 0.28523339 0.26586169]\n"
     ]
    }
   ],
   "source": [
    "from sklearn.tree import DecisionTreeClassifier\n",
    "\n",
    "model = DecisionTreeClassifier(random_state=6)\n",
    "model.fit(X_train,y_train)\n",
    "y_pred = model.predict(X_test)\n",
    "score = accuracy_score(y_test,y_pred)\n",
    "precision = precision_score(y_test,y_pred,average=None)\n",
    "print(score,'\\n',precision)"
   ]
  },
  {
   "cell_type": "code",
   "execution_count": 13,
   "id": "empty-proportion",
   "metadata": {},
   "outputs": [],
   "source": [
    "from sklearn.model_selection import GridSearchCV\n",
    "from sklearn.tree import DecisionTreeClassifier\n",
    "\n",
    "\n",
    "# parameters for grid search\n",
    "parameters = {'max_depth':[5,10],\n",
    "              'criterion':['gini','entropy'],\n",
    "              'min_samples_leaf':[0.5,1]}\n"
   ]
  },
  {
   "cell_type": "code",
   "execution_count": 14,
   "id": "graduate-soviet",
   "metadata": {},
   "outputs": [
    {
     "name": "stdout",
     "output_type": "stream",
     "text": [
      "0.6955003158324973\n"
     ]
    }
   ],
   "source": [
    "model = DecisionTreeClassifier(random_state=6)\n",
    "grid = GridSearchCV(estimator=model,param_grid=parameters)\n",
    "grid.fit(X_train,y_train)\n",
    "y_pred = grid.predict(X_test)\n",
    "accuracy = accuracy_score(y_test,y_pred)\n",
    "print(accuracy)"
   ]
  },
  {
   "cell_type": "code",
   "execution_count": 15,
   "id": "greater-sunrise",
   "metadata": {},
   "outputs": [
    {
     "name": "stdout",
     "output_type": "stream",
     "text": [
      "0.6965407052353881\n"
     ]
    }
   ],
   "source": [
    "from sklearn.ensemble import RandomForestClassifier\n",
    "\n",
    "rf = RandomForestClassifier(random_state=6)\n",
    "rf.fit(X_train,y_train)\n",
    "y_pred = rf.predict(X_test)\n",
    "accuracy = accuracy_score(y_test,y_pred)\n",
    "print(accuracy)"
   ]
  },
  {
   "cell_type": "code",
   "execution_count": null,
   "id": "grave-point",
   "metadata": {},
   "outputs": [],
   "source": [
    "RandomForestClassifier()\n",
    "n_estimators=100,\n",
    "    criterion='gini',\n",
    "    max_depth=None,\n",
    "    min_samples_split=2,\n",
    "    min_samples_leaf=1,\n",
    "    min_weight_fraction_leaf=0.0,\n",
    "    max_features='auto',\n",
    "    max_leaf_nodes=None,\n",
    "    min_impurity_decrease=0.0,\n",
    "    min_impurity_split=None,\n",
    "    bootstrap=True,\n",
    "    oob_score=False,\n",
    "    n_jobs=None,\n",
    "    random_state=None,\n",
    "    verbose=0,\n",
    "    warm_start=False,\n",
    "    class_weight=None,\n",
    "    ccp_alpha=0.0,\n",
    "    max_samples=None,"
   ]
  },
  {
   "cell_type": "code",
   "execution_count": 30,
   "id": "adolescent-legislation",
   "metadata": {},
   "outputs": [],
   "source": [
    "parameters = {\n",
    "    'n_estimators':[100,150,200],\n",
    "    'max_depth':[10,40,50,60],\n",
    "    'min_samples_leaf':[1,2]\n",
    "}"
   ]
  },
  {
   "cell_type": "code",
   "execution_count": 32,
   "id": "southwest-perfume",
   "metadata": {},
   "outputs": [
    {
     "name": "stdout",
     "output_type": "stream",
     "text": [
      "Fitting 5 folds for each of 24 candidates, totalling 120 fits\n"
     ]
    },
    {
     "name": "stderr",
     "output_type": "stream",
     "text": [
      "[Parallel(n_jobs=6)]: Using backend LokyBackend with 6 concurrent workers.\n",
      "[Parallel(n_jobs=6)]: Done  38 tasks      | elapsed:  2.2min\n",
      "[Parallel(n_jobs=6)]: Done 120 out of 120 | elapsed:  8.7min finished\n"
     ]
    },
    {
     "name": "stdout",
     "output_type": "stream",
     "text": [
      "0.7027830416527329\n"
     ]
    }
   ],
   "source": [
    "grid = GridSearchCV(estimator=rf,param_grid=parameters,n_jobs=6,verbose=1)\n",
    "grid.fit(X_train,y_train)\n",
    "y_pred = grid.predict(X_test)\n",
    "accuracy = accuracy_score(y_test,y_pred)\n",
    "print(accuracy)"
   ]
  },
  {
   "cell_type": "code",
   "execution_count": 33,
   "id": "alpha-stuff",
   "metadata": {},
   "outputs": [
    {
     "data": {
      "text/plain": [
       "{'max_depth': 50, 'min_samples_leaf': 2, 'n_estimators': 200}"
      ]
     },
     "execution_count": 33,
     "metadata": {},
     "output_type": "execute_result"
    }
   ],
   "source": [
    "grid.best_params_"
   ]
  },
  {
   "cell_type": "code",
   "execution_count": 34,
   "id": "necessary-editor",
   "metadata": {},
   "outputs": [
    {
     "name": "stdout",
     "output_type": "stream",
     "text": [
      "0.7026937931207924 {'max_depth': 10, 'min_samples_leaf': 1, 'n_estimators': 100}\n",
      "0.702858365384403 {'max_depth': 10, 'min_samples_leaf': 1, 'n_estimators': 150}\n",
      "0.7027486377222368 {'max_depth': 10, 'min_samples_leaf': 1, 'n_estimators': 200}\n",
      "0.702437749646693 {'max_depth': 10, 'min_samples_leaf': 2, 'n_estimators': 100}\n",
      "0.702949813184897 {'max_depth': 10, 'min_samples_leaf': 2, 'n_estimators': 150}\n",
      "0.7025474823252866 {'max_depth': 10, 'min_samples_leaf': 2, 'n_estimators': 200}\n",
      "0.69843267242013 {'max_depth': 40, 'min_samples_leaf': 1, 'n_estimators': 100}\n",
      "0.6986704126225621 {'max_depth': 40, 'min_samples_leaf': 1, 'n_estimators': 150}\n",
      "0.6987070191658965 {'max_depth': 40, 'min_samples_leaf': 1, 'n_estimators': 200}\n",
      "0.7043213914044786 {'max_depth': 40, 'min_samples_leaf': 2, 'n_estimators': 100}\n",
      "0.7043579828985306 {'max_depth': 40, 'min_samples_leaf': 2, 'n_estimators': 150}\n",
      "0.7048151667202979 {'max_depth': 40, 'min_samples_leaf': 2, 'n_estimators': 200}\n",
      "0.698560691648966 {'max_depth': 50, 'min_samples_leaf': 1, 'n_estimators': 100}\n",
      "0.6990361770702578 {'max_depth': 50, 'min_samples_leaf': 1, 'n_estimators': 150}\n",
      "0.6989995905926334 {'max_depth': 50, 'min_samples_leaf': 1, 'n_estimators': 200}\n",
      "0.7045042602511865 {'max_depth': 50, 'min_samples_leaf': 2, 'n_estimators': 100}\n",
      "0.7043579661771057 {'max_depth': 50, 'min_samples_leaf': 2, 'n_estimators': 150}\n",
      "0.7049065994715094 {'max_depth': 50, 'min_samples_leaf': 2, 'n_estimators': 200}\n",
      "0.698560691648966 {'max_depth': 60, 'min_samples_leaf': 1, 'n_estimators': 100}\n",
      "0.6990361770702578 {'max_depth': 60, 'min_samples_leaf': 1, 'n_estimators': 150}\n",
      "0.6989995905926334 {'max_depth': 60, 'min_samples_leaf': 1, 'n_estimators': 200}\n",
      "0.7045042602511865 {'max_depth': 60, 'min_samples_leaf': 2, 'n_estimators': 100}\n",
      "0.7043579661771057 {'max_depth': 60, 'min_samples_leaf': 2, 'n_estimators': 150}\n",
      "0.7049065994715094 {'max_depth': 60, 'min_samples_leaf': 2, 'n_estimators': 200}\n"
     ]
    }
   ],
   "source": [
    "mean = grid.cv_results_['mean_test_score']\n",
    "params = grid.cv_results_['params']\n",
    "for m,p in zip(mean,params):\n",
    "    print(m,p)"
   ]
  },
  {
   "cell_type": "code",
   "execution_count": null,
   "id": "elect-george",
   "metadata": {},
   "outputs": [],
   "source": []
  }
 ],
 "metadata": {
  "kernelspec": {
   "display_name": "Python 3",
   "language": "python",
   "name": "python3"
  }
 },
 "nbformat": 4,
 "nbformat_minor": 5
}
