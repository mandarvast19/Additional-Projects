{
 "cells": [
  {
   "cell_type": "code",
   "execution_count": 1,
   "id": "annual-injury",
   "metadata": {},
   "outputs": [
    {
     "data": {
      "text/html": [
       "<div>\n",
       "<style scoped>\n",
       "    .dataframe tbody tr th:only-of-type {\n",
       "        vertical-align: middle;\n",
       "    }\n",
       "\n",
       "    .dataframe tbody tr th {\n",
       "        vertical-align: top;\n",
       "    }\n",
       "\n",
       "    .dataframe thead th {\n",
       "        text-align: right;\n",
       "    }\n",
       "</style>\n",
       "<table border=\"1\" class=\"dataframe\">\n",
       "  <thead>\n",
       "    <tr style=\"text-align: right;\">\n",
       "      <th></th>\n",
       "      <th>Unnamed: 0</th>\n",
       "      <th>chroma_stft</th>\n",
       "      <th>rmse</th>\n",
       "      <th>spectral_centroid</th>\n",
       "      <th>spectral_bandwidth</th>\n",
       "      <th>rolloff</th>\n",
       "      <th>zero_crossing_rate</th>\n",
       "      <th>mfcc1</th>\n",
       "      <th>mfcc2</th>\n",
       "      <th>mfcc3</th>\n",
       "      <th>mfcc4</th>\n",
       "      <th>mfcc5</th>\n",
       "      <th>mfcc6</th>\n",
       "      <th>mfcc7</th>\n",
       "      <th>mfcc8</th>\n",
       "      <th>mfcc9</th>\n",
       "      <th>mfcc10</th>\n",
       "      <th>mfcc11</th>\n",
       "      <th>mfcc12</th>\n",
       "      <th>mfcc13</th>\n",
       "      <th>mfcc14</th>\n",
       "      <th>mfcc15</th>\n",
       "      <th>mfcc16</th>\n",
       "      <th>mfcc17</th>\n",
       "      <th>mfcc18</th>\n",
       "      <th>mfcc19</th>\n",
       "      <th>mfcc20</th>\n",
       "      <th>label</th>\n",
       "    </tr>\n",
       "  </thead>\n",
       "  <tbody>\n",
       "    <tr>\n",
       "      <th>0</th>\n",
       "      <td>0</td>\n",
       "      <td>0.380260</td>\n",
       "      <td>0.248262</td>\n",
       "      <td>2116.942959</td>\n",
       "      <td>1956.611056</td>\n",
       "      <td>4196.107960</td>\n",
       "      <td>0.127272</td>\n",
       "      <td>-26.929785</td>\n",
       "      <td>107.334008</td>\n",
       "      <td>-46.809993</td>\n",
       "      <td>40.932634</td>\n",
       "      <td>-21.463776</td>\n",
       "      <td>24.816275</td>\n",
       "      <td>-18.945571</td>\n",
       "      <td>15.253459</td>\n",
       "      <td>-15.050104</td>\n",
       "      <td>12.262823</td>\n",
       "      <td>-15.234050</td>\n",
       "      <td>14.336612</td>\n",
       "      <td>-13.821769</td>\n",
       "      <td>7.562789</td>\n",
       "      <td>-6.181372</td>\n",
       "      <td>0.330165</td>\n",
       "      <td>-6.829571</td>\n",
       "      <td>0.965922</td>\n",
       "      <td>-7.570825</td>\n",
       "      <td>2.918987</td>\n",
       "      <td>blues</td>\n",
       "    </tr>\n",
       "    <tr>\n",
       "      <th>1</th>\n",
       "      <td>1</td>\n",
       "      <td>0.306451</td>\n",
       "      <td>0.113475</td>\n",
       "      <td>1156.070496</td>\n",
       "      <td>1497.668176</td>\n",
       "      <td>2170.053545</td>\n",
       "      <td>0.058613</td>\n",
       "      <td>-233.860772</td>\n",
       "      <td>136.170239</td>\n",
       "      <td>3.289490</td>\n",
       "      <td>48.931193</td>\n",
       "      <td>8.699106</td>\n",
       "      <td>13.954752</td>\n",
       "      <td>5.359449</td>\n",
       "      <td>0.381334</td>\n",
       "      <td>-13.490265</td>\n",
       "      <td>16.871769</td>\n",
       "      <td>5.145258</td>\n",
       "      <td>-2.250578</td>\n",
       "      <td>3.959198</td>\n",
       "      <td>5.322555</td>\n",
       "      <td>0.812028</td>\n",
       "      <td>-1.107202</td>\n",
       "      <td>-4.556555</td>\n",
       "      <td>-2.436490</td>\n",
       "      <td>3.316913</td>\n",
       "      <td>-0.608485</td>\n",
       "      <td>blues</td>\n",
       "    </tr>\n",
       "    <tr>\n",
       "      <th>2</th>\n",
       "      <td>2</td>\n",
       "      <td>0.253487</td>\n",
       "      <td>0.151571</td>\n",
       "      <td>1331.073970</td>\n",
       "      <td>1973.643437</td>\n",
       "      <td>2900.174130</td>\n",
       "      <td>0.042967</td>\n",
       "      <td>-221.802549</td>\n",
       "      <td>110.843071</td>\n",
       "      <td>18.620984</td>\n",
       "      <td>30.922996</td>\n",
       "      <td>3.291330</td>\n",
       "      <td>22.587447</td>\n",
       "      <td>-20.418303</td>\n",
       "      <td>12.120995</td>\n",
       "      <td>-26.347956</td>\n",
       "      <td>-4.356270</td>\n",
       "      <td>-26.406674</td>\n",
       "      <td>-13.037723</td>\n",
       "      <td>-12.652228</td>\n",
       "      <td>-1.821905</td>\n",
       "      <td>-7.260097</td>\n",
       "      <td>-6.660252</td>\n",
       "      <td>-14.682694</td>\n",
       "      <td>-11.719264</td>\n",
       "      <td>-11.025216</td>\n",
       "      <td>-13.387260</td>\n",
       "      <td>blues</td>\n",
       "    </tr>\n",
       "    <tr>\n",
       "      <th>3</th>\n",
       "      <td>3</td>\n",
       "      <td>0.269320</td>\n",
       "      <td>0.119072</td>\n",
       "      <td>1361.045467</td>\n",
       "      <td>1567.804596</td>\n",
       "      <td>2739.625101</td>\n",
       "      <td>0.069124</td>\n",
       "      <td>-207.208080</td>\n",
       "      <td>132.799175</td>\n",
       "      <td>-15.438986</td>\n",
       "      <td>60.986727</td>\n",
       "      <td>0.725807</td>\n",
       "      <td>12.437828</td>\n",
       "      <td>1.183836</td>\n",
       "      <td>-1.540779</td>\n",
       "      <td>-17.888154</td>\n",
       "      <td>8.358496</td>\n",
       "      <td>-2.452068</td>\n",
       "      <td>-0.613248</td>\n",
       "      <td>0.384877</td>\n",
       "      <td>2.605128</td>\n",
       "      <td>-5.188924</td>\n",
       "      <td>-9.527455</td>\n",
       "      <td>-9.244394</td>\n",
       "      <td>-2.848274</td>\n",
       "      <td>-1.418707</td>\n",
       "      <td>-5.932607</td>\n",
       "      <td>blues</td>\n",
       "    </tr>\n",
       "    <tr>\n",
       "      <th>4</th>\n",
       "      <td>4</td>\n",
       "      <td>0.391059</td>\n",
       "      <td>0.137728</td>\n",
       "      <td>1811.076084</td>\n",
       "      <td>2052.332563</td>\n",
       "      <td>3927.809582</td>\n",
       "      <td>0.075480</td>\n",
       "      <td>-145.434568</td>\n",
       "      <td>102.829023</td>\n",
       "      <td>-12.517677</td>\n",
       "      <td>56.993472</td>\n",
       "      <td>2.271347</td>\n",
       "      <td>26.591402</td>\n",
       "      <td>-4.274803</td>\n",
       "      <td>17.338809</td>\n",
       "      <td>-7.985593</td>\n",
       "      <td>15.235427</td>\n",
       "      <td>-6.934599</td>\n",
       "      <td>7.457218</td>\n",
       "      <td>-10.470444</td>\n",
       "      <td>-2.360483</td>\n",
       "      <td>-6.783624</td>\n",
       "      <td>2.671134</td>\n",
       "      <td>-4.760879</td>\n",
       "      <td>-0.949005</td>\n",
       "      <td>0.024832</td>\n",
       "      <td>-2.005315</td>\n",
       "      <td>blues</td>\n",
       "    </tr>\n",
       "  </tbody>\n",
       "</table>\n",
       "</div>"
      ],
      "text/plain": [
       "   Unnamed: 0  chroma_stft      rmse  spectral_centroid  spectral_bandwidth  \\\n",
       "0           0     0.380260  0.248262        2116.942959         1956.611056   \n",
       "1           1     0.306451  0.113475        1156.070496         1497.668176   \n",
       "2           2     0.253487  0.151571        1331.073970         1973.643437   \n",
       "3           3     0.269320  0.119072        1361.045467         1567.804596   \n",
       "4           4     0.391059  0.137728        1811.076084         2052.332563   \n",
       "\n",
       "       rolloff  zero_crossing_rate       mfcc1       mfcc2      mfcc3  \\\n",
       "0  4196.107960            0.127272  -26.929785  107.334008 -46.809993   \n",
       "1  2170.053545            0.058613 -233.860772  136.170239   3.289490   \n",
       "2  2900.174130            0.042967 -221.802549  110.843071  18.620984   \n",
       "3  2739.625101            0.069124 -207.208080  132.799175 -15.438986   \n",
       "4  3927.809582            0.075480 -145.434568  102.829023 -12.517677   \n",
       "\n",
       "       mfcc4      mfcc5      mfcc6      mfcc7      mfcc8      mfcc9  \\\n",
       "0  40.932634 -21.463776  24.816275 -18.945571  15.253459 -15.050104   \n",
       "1  48.931193   8.699106  13.954752   5.359449   0.381334 -13.490265   \n",
       "2  30.922996   3.291330  22.587447 -20.418303  12.120995 -26.347956   \n",
       "3  60.986727   0.725807  12.437828   1.183836  -1.540779 -17.888154   \n",
       "4  56.993472   2.271347  26.591402  -4.274803  17.338809  -7.985593   \n",
       "\n",
       "      mfcc10     mfcc11     mfcc12     mfcc13    mfcc14    mfcc15    mfcc16  \\\n",
       "0  12.262823 -15.234050  14.336612 -13.821769  7.562789 -6.181372  0.330165   \n",
       "1  16.871769   5.145258  -2.250578   3.959198  5.322555  0.812028 -1.107202   \n",
       "2  -4.356270 -26.406674 -13.037723 -12.652228 -1.821905 -7.260097 -6.660252   \n",
       "3   8.358496  -2.452068  -0.613248   0.384877  2.605128 -5.188924 -9.527455   \n",
       "4  15.235427  -6.934599   7.457218 -10.470444 -2.360483 -6.783624  2.671134   \n",
       "\n",
       "      mfcc17     mfcc18     mfcc19     mfcc20  label  \n",
       "0  -6.829571   0.965922  -7.570825   2.918987  blues  \n",
       "1  -4.556555  -2.436490   3.316913  -0.608485  blues  \n",
       "2 -14.682694 -11.719264 -11.025216 -13.387260  blues  \n",
       "3  -9.244394  -2.848274  -1.418707  -5.932607  blues  \n",
       "4  -4.760879  -0.949005   0.024832  -2.005315  blues  "
      ]
     },
     "execution_count": 1,
     "metadata": {},
     "output_type": "execute_result"
    }
   ],
   "source": [
    "import warnings\n",
    "warnings.filterwarnings(\"ignore\")\n",
    "\n",
    "import numpy as np\n",
    "import pandas as pd\n",
    "import matplotlib.pyplot as plt\n",
    "import seaborn as sns\n",
    "from sklearn.model_selection import train_test_split\n",
    "from sklearn.preprocessing import LabelEncoder\n",
    "from sklearn.preprocessing import StandardScaler\n",
    "from sklearn.linear_model import LogisticRegression\n",
    "from sklearn.metrics import accuracy_score\n",
    "from sklearn.ensemble import RandomForestClassifier\n",
    "from sklearn.svm import SVC\n",
    "from sklearn.ensemble import BaggingClassifier\n",
    "from sklearn.ensemble import VotingClassifier\n",
    "from sklearn.naive_bayes import GaussianNB\n",
    "from sklearn.model_selection import GridSearchCV\n",
    "\n",
    "df = pd.read_csv(\"data/music_genre_classification.csv\")\n",
    "X = df.drop('label',axis=1)\n",
    "y = df['label']\n",
    "X_train,X_test,y_train,y_test = train_test_split(X,y,test_size=0.3,random_state=6)\n",
    "pd.set_option('display.max_columns',100)\n",
    "df.head()"
   ]
  },
  {
   "cell_type": "code",
   "execution_count": 2,
   "id": "liberal-completion",
   "metadata": {},
   "outputs": [
    {
     "data": {
      "text/plain": [
       "<AxesSubplot:xlabel='spectral_bandwidth', ylabel='Density'>"
      ]
     },
     "execution_count": 2,
     "metadata": {},
     "output_type": "execute_result"
    },
    {
     "data": {
      "image/png": "[encoded data removed]",
      "text/plain": [
       "<Figure size 432x288 with 1 Axes>"
      ]
     },
     "metadata": {
      "needs_background": "light"
     },
     "output_type": "display_data"
    }
   ],
   "source": [
    "bandwidth = X_train['spectral_bandwidth']\n",
    "sns.distplot(bandwidth)"
   ]
  },
  {
   "cell_type": "markdown",
   "id": "coordinated-exhaust",
   "metadata": {},
   "source": [
    "##### The average bandwidth is between 2000 to 2500"
   ]
  },
  {
   "cell_type": "code",
   "execution_count": 3,
   "id": "tutorial-sleep",
   "metadata": {},
   "outputs": [
    {
     "data": {
      "text/plain": [
       "<AxesSubplot:xlabel='zero_crossing_rate', ylabel='Density'>"
      ]
     },
     "execution_count": 3,
     "metadata": {},
     "output_type": "execute_result"
    },
    {
     "data": {
      "image/png": "[encoded data removed]",
      "text/plain": [
       "<Figure size 432x288 with 1 Axes>"
      ]
     },
     "metadata": {
      "needs_background": "light"
     },
     "output_type": "display_data"
    }
   ],
   "source": [
    "zc_rate = X_train['zero_crossing_rate']\n",
    "sns.distplot(zc_rate)"
   ]
  },
  {
   "cell_type": "markdown",
   "id": "embedded-technician",
   "metadata": {},
   "source": [
    "####  In the zero_crossing_rate we can see that most of the waveform lies between 0.05 - 0.1"
   ]
  },
  {
   "cell_type": "code",
   "execution_count": 4,
   "id": "social-confirmation",
   "metadata": {},
   "outputs": [
    {
     "data": {
      "text/plain": [
       "<AxesSubplot:xlabel='spectral_centroid', ylabel='Density'>"
      ]
     },
     "execution_count": 4,
     "metadata": {},
     "output_type": "execute_result"
    },
    {
     "data": {
      "image/png": "[encoded data removed]",
      "text/plain": [
       "<Figure size 432x288 with 1 Axes>"
      ]
     },
     "metadata": {
      "needs_background": "light"
     },
     "output_type": "display_data"
    }
   ],
   "source": [
    "centroid = X_train['spectral_centroid']\n",
    "sns.distplot(centroid)"
   ]
  },
  {
   "cell_type": "markdown",
   "id": "alpine-reservoir",
   "metadata": {},
   "source": [
    "#### In spectral_centroid the most of the frequncy lies between 2000-3000"
   ]
  },
  {
   "cell_type": "markdown",
   "id": "recorded-oxygen",
   "metadata": {},
   "source": [
    "#### Scaling"
   ]
  },
  {
   "cell_type": "code",
   "execution_count": 5,
   "id": "academic-assurance",
   "metadata": {},
   "outputs": [
    {
     "name": "stdout",
     "output_type": "stream",
     "text": [
      "0.8433333333333334\n"
     ]
    }
   ],
   "source": [
    "sc = StandardScaler()\n",
    "sc.fit(X_train)\n",
    "X_train = sc.transform(X_train)\n",
    "X_test = sc.transform(X_test)"
   ]
  },
  {
   "cell_type": "code",
   "execution_count": 6,
   "id": "developmental-prototype",
   "metadata": {},
   "outputs": [
    {
     "name": "stdout",
     "output_type": "stream",
     "text": [
      "0.8433333333333334\n"
     ]
    }
   ],
   "source": [
    "lr = LogisticRegression()\n",
    "lr.fit(X_train,y_train)\n",
    "y_pred_lr = lr.predict(X_test)\n",
    "accuracy_lr = accuracy_score(y_test,y_pred_lr)\n",
    "print(accuracy_lr)"
   ]
  },
  {
   "cell_type": "code",
   "execution_count": 8,
   "id": "informed-source",
   "metadata": {},
   "outputs": [
    {
     "name": "stdout",
     "output_type": "stream",
     "text": [
      "SVC accuracy 0.8366666666666667\n"
     ]
    }
   ],
   "source": [
    "sc  =SVC(random_state=9)\n",
    "sc.fit(X_train,y_train)\n",
    "y_pred_sc = sc.predict(X_test)\n",
    "accuracy_sc = accuracy_score(y_test,y_pred_sc)\n",
    "print(\"SVC accuracy\",accuracy_sc)"
   ]
  },
  {
   "cell_type": "code",
   "execution_count": 9,
   "id": "plain-package",
   "metadata": {},
   "outputs": [
    {
     "name": "stdout",
     "output_type": "stream",
     "text": [
      "Random Forest accuracy 0.9233333333333333\n"
     ]
    }
   ],
   "source": [
    "rf = RandomForestClassifier(random_state=9)\n",
    "rf.fit(X_train,y_train)\n",
    "y_pred_rf = rf.predict(X_test)\n",
    "accuracy_rf = accuracy_score(y_test,y_pred_rf)\n",
    "print(\"Random Forest accuracy\",accuracy_rf)"
   ]
  },
  {
   "cell_type": "code",
   "execution_count": 17,
   "id": "executive-fitting",
   "metadata": {},
   "outputs": [
    {
     "name": "stdout",
     "output_type": "stream",
     "text": [
      "Bagging accuracy 0.7966666666666666\n"
     ]
    }
   ],
   "source": [
    "bagging_clf = BaggingClassifier(base_estimator=lr,n_estimators=50,max_samples=100,bootstrap=True,random_state=9)\n",
    "bagging_clf.fit(X_train,y_train)\n",
    "y_pred_bag = bagging_clf.predict(X_test)\n",
    "accuracy = accuracy_score(y_test,y_pred_bag)\n",
    "print(\"Bagging accuracy\",accuracy)"
   ]
  },
  {
   "cell_type": "code",
   "execution_count": 16,
   "id": "large-sculpture",
   "metadata": {},
   "outputs": [
    {
     "name": "stdout",
     "output_type": "stream",
     "text": [
      "Voting accuracy 0.8933333333333333\n"
     ]
    }
   ],
   "source": [
    "nv = GaussianNB()\n",
    "nv.fit(X_train,y_train)\n",
    "voting_clf_soft = VotingClassifier(estimators=[('lr',lr),('rf',rf),('nv',nv)],voting='soft')\n",
    "voting_clf_soft.fit(X_train,y_train)\n",
    "y_pred_soft = voting_clf_soft.predict(X_test)\n",
    "accuracy_soft = accuracy_score(y_test,y_pred_soft)\n",
    "print(\"Voting accuracy\",accuracy_soft)"
   ]
  },
  {
   "cell_type": "code",
   "execution_count": 18,
   "id": "several-niagara",
   "metadata": {},
   "outputs": [],
   "source": [
    "RandomForestClassifier()\n",
    "n_estimators=100,\n",
    "    criterion='gini',\n",
    "    max_depth=None,\n",
    "    min_samples_split=2,\n",
    "    min_samples_leaf=1,\n",
    "    min_weight_fraction_leaf=0.0,\n",
    "    max_features='auto',\n",
    "    max_leaf_nodes=None,\n",
    "    min_impurity_decrease=0.0,\n",
    "    min_impurity_split=None,\n",
    "    bootstrap=True,\n",
    "    oob_score=False,\n",
    "    n_jobs=None,\n",
    "    random_state=None,\n",
    "    verbose=0,\n",
    "    warm_start=False,\n",
    "    class_weight=None,\n",
    "    ccp_alpha=0.0,\n",
    "    max_samples=None,"
   ]
  },
  {
   "cell_type": "code",
   "execution_count": 26,
   "id": "crude-disaster",
   "metadata": {},
   "outputs": [],
   "source": [
    "parameters = {\n",
    "    'n_estimators':[150,200,250],\n",
    "    'max_depth':[10,20,30],\n",
    "    'min_samples_leaf':[1,2]\n",
    "}"
   ]
  },
  {
   "cell_type": "code",
   "execution_count": 28,
   "id": "secondary-biodiversity",
   "metadata": {},
   "outputs": [
    {
     "name": "stdout",
     "output_type": "stream",
     "text": [
      "Fitting 5 folds for each of 18 candidates, totalling 90 fits\n"
     ]
    },
    {
     "name": "stderr",
     "output_type": "stream",
     "text": [
      "[Parallel(n_jobs=6)]: Using backend LokyBackend with 6 concurrent workers.\n",
      "[Parallel(n_jobs=6)]: Done  29 tasks      | elapsed:   10.7s\n",
      "[Parallel(n_jobs=6)]: Done  90 out of  90 | elapsed:   21.0s finished\n"
     ]
    },
    {
     "name": "stdout",
     "output_type": "stream",
     "text": [
      "0.92\n"
     ]
    }
   ],
   "source": [
    "grid = GridSearchCV(estimator=rf,param_grid=parameters,n_jobs=6,verbose=2)\n",
    "grid.fit(X_train,y_train)\n",
    "y_pred = grid.predict(X_test)\n",
    "accuracy = accuracy_score(y_test,y_pred)\n",
    "print(accuracy)"
   ]
  },
  {
   "cell_type": "code",
   "execution_count": 29,
   "id": "immune-flush",
   "metadata": {},
   "outputs": [
    {
     "data": {
      "text/plain": [
       "{'max_depth': 20, 'min_samples_leaf': 1, 'n_estimators': 150}"
      ]
     },
     "execution_count": 29,
     "metadata": {},
     "output_type": "execute_result"
    }
   ],
   "source": [
    "grid.best_params_"
   ]
  },
  {
   "cell_type": "code",
   "execution_count": null,
   "id": "stylish-triangle",
   "metadata": {},
   "outputs": [],
   "source": []
  }
 ],
 "metadata": {
  "kernelspec": {
   "display_name": "Python 3",
   "language": "python",
   "name": "python3"
  },
  "language_info": {
   "codemirror_mode": {
    "name": "ipython",
    "version": 3
   },
   "file_extension": ".py",
   "mimetype": "text/x-python",
   "name": "python",
   "nbconvert_exporter": "python",
   "pygments_lexer": "ipython3",
   "version": "3.7.1"
  }
 },
 "nbformat": 4,
 "nbformat_minor": 5
}
